{
  "nbformat": 4,
  "nbformat_minor": 5,
  "metadata": {
    "kernelspec": {
      "display_name": "Python 3",
      "language": "python",
      "name": "python3"
    },
    "language_info": {
      "codemirror_mode": {
        "name": "ipython",
        "version": 3
      },
      "file_extension": ".py",
      "mimetype": "text/x-python",
      "name": "python",
      "nbconvert_exporter": "python",
      "pygments_lexer": "ipython3",
      "version": "3.8.8"
    },
    "colab": {
      "name": "웹크롤링_실습.ipynb",
      "provenance": [],
      "include_colab_link": true
    }
  },
  "cells": [
    {
      "cell_type": "markdown",
      "metadata": {
        "id": "view-in-github",
        "colab_type": "text"
      },
      "source": [
        "<a href=\"https://colab.research.google.com/github/zizilnam/Mini_Project_Web_Crawling_Naver_Stock/blob/main/%EC%9B%B9%ED%81%AC%EB%A1%A4%EB%A7%81_%EC%8B%A4%EC%8A%B5.ipynb\" target=\"_parent\"><img src=\"https://colab.research.google.com/assets/colab-badge.svg\" alt=\"Open In Colab\"/></a>"
      ]
    },
    {
      "cell_type": "markdown",
      "metadata": {
        "id": "5eca4340"
      },
      "source": [
        "# 금 시세와 달러 환율 데이터 크롤링\n",
        "- 둘 사이의 종가 및 등락율을 분석해서 둘 사이의 상관관계를 알아보는 EDA를 가정합니다."
      ],
      "id": "5eca4340"
    },
    {
      "cell_type": "code",
      "metadata": {
        "id": "d4cb1616"
      },
      "source": [
        "from urllib.request import urlopen\n",
        "import requests\n",
        "import bs4\n",
        "import pandas as pd"
      ],
      "id": "d4cb1616",
      "execution_count": null,
      "outputs": []
    },
    {
      "cell_type": "markdown",
      "metadata": {
        "id": "4af1070e"
      },
      "source": [
        "## 국제 금 시세 데이터 크롤링"
      ],
      "id": "4af1070e"
    },
    {
      "cell_type": "code",
      "metadata": {
        "id": "5d5b5eae",
        "outputId": "07ed5044-6f09-40d6-e28f-f0f549d5aca9"
      },
      "source": [
        "# https://finance.naver.com/marketindex/worldDailyQuote.nhn?marketindexCd=CMDT_GC&fdtc=2&page=1\n",
        "\n",
        "index_cd = \"CMDT_GC\"\n",
        "page_n = 1\n",
        "\n",
        "naver_index = f\"https://finance.naver.com/marketindex/worldDailyQuote.nhn?marketindexCd={index_cd}&fdtc=2&page={page_n}\"\n",
        "\n",
        "naver_index"
      ],
      "id": "5d5b5eae",
      "execution_count": null,
      "outputs": [
        {
          "data": {
            "text/plain": [
              "'https://finance.naver.com/marketindex/worldDailyQuote.nhn?marketindexCd=CMDT_GC&fdtc=2&page=1'"
            ]
          },
          "execution_count": 2,
          "metadata": {},
          "output_type": "execute_result"
        }
      ]
    },
    {
      "cell_type": "markdown",
      "metadata": {
        "id": "cc83c410"
      },
      "source": [
        "- url을 불러와서 데이터 열어보기"
      ],
      "id": "cc83c410"
    },
    {
      "cell_type": "code",
      "metadata": {
        "id": "1279ccc7"
      },
      "source": [
        "src = urlopen(naver_index).read()"
      ],
      "id": "1279ccc7",
      "execution_count": null,
      "outputs": []
    },
    {
      "cell_type": "markdown",
      "metadata": {
        "id": "cd768127"
      },
      "source": [
        "- BeautifulSoup의 힘을 빌려서 parser로 parsing 하기"
      ],
      "id": "cd768127"
    },
    {
      "cell_type": "code",
      "metadata": {
        "id": "30962be5",
        "outputId": "0c671dc8-1d89-4539-8adb-fdec0fe003d2"
      },
      "source": [
        "source = bs4.BeautifulSoup(src, 'lxml')\n",
        "source"
      ],
      "id": "30962be5",
      "execution_count": null,
      "outputs": [
        {
          "data": {
            "text/plain": [
              "<html lang=\"ko\">\n",
              "<head>\n",
              "<title>네이버 금융</title>\n",
              "<meta content=\"text/html; charset=utf-8\" http-equiv=\"Content-Type\"/>\n",
              "<meta content=\"text/javascript\" http-equiv=\"Content-Script-Type\"/>\n",
              "<meta content=\"text/css\" http-equiv=\"Content-Style-Type\"/>\n",
              "<link href=\"https://ssl.pstatic.net/imgstock/static.pc/20210721200146/css/finance.css\" rel=\"stylesheet\" type=\"text/css\"/>\n",
              "<script language=\"javascript\">document.domain=\"naver.com\";</script>\n",
              "<script src=\"https://ssl.pstatic.net/imgstock/static.pc/20210721200146/js/info/jindo.min.ns.1.5.3.euckr.js\" type=\"text/javascript\"></script>\n",
              "<script src=\"https://ssl.pstatic.net/imgstock/static.pc/20210721200146/js/lcslog.js\" type=\"text/javascript\"></script>\n",
              "</head>\n",
              "<body>\n",
              "<div class=\"section_exchange2\">\n",
              "<h3 class=\"h_today\"><span>일별 시세</span></h3>\n",
              "<table border=\"1\" class=\"tbl_exchange today\" summary=\"일별 시세 리스트\">\n",
              "<caption>일별 시세</caption>\n",
              "<colgroup>\n",
              "<col width=\"85\"/>\n",
              "<col width=\"83\"/>\n",
              "<col width=\"83\"/>\n",
              "<col width=\"82\"/>\n",
              "</colgroup>\n",
              "<thead>\n",
              "<tr>\n",
              "<th class=\"th_today1\"><span>날짜</span></th>\n",
              "<th class=\"th_today2\"><span>파실 때</span></th>\n",
              "<th class=\"th_today3\"><span>보내실 때 </span></th>\n",
              "<th class=\"th_today4\"><span>받으실 때</span></th>\n",
              "</tr>\n",
              "</thead>\n",
              "<tbody>\n",
              "<tr class=\"up\">\n",
              "<td class=\"date\">\n",
              "\t\t\n",
              "\t\t2021.08.02\t\t\t\t\n",
              "\t\t</td>\n",
              "<td class=\"num\">\n",
              "\t\t\t\n",
              "\t\t\t\t\n",
              "\t\t\t\t1,818.10\n",
              "\t\t\t\n",
              "\t\t</td>\n",
              "<td class=\"num\">\n",
              "<img alt=\"상승\" height=\"6\" src=\"https://ssl.pstatic.net/static/nfinance/ico_up.gif\" width=\"7\"/> 5.50\n",
              "\t\t\t\n",
              "\t\t</td>\n",
              "<td class=\"num\">\n",
              "\t\t +0.30%\n",
              "\t\t</td>\n",
              "</tr>\n",
              "<tr class=\"down\">\n",
              "<td class=\"date\">\n",
              "\t\t\n",
              "\t\t2021.07.30\t\t\t\t\n",
              "\t\t</td>\n",
              "<td class=\"num\">\n",
              "\t\t\t\n",
              "\t\t\t\t\n",
              "\t\t\t\t1,812.60\n",
              "\t\t\t\n",
              "\t\t</td>\n",
              "<td class=\"num\">\n",
              "<img alt=\"하락\" height=\"6\" src=\"https://ssl.pstatic.net/static/nfinance/ico_down.gif\" width=\"7\"/> 18.60\n",
              "\t\t\t\n",
              "\t\t</td>\n",
              "<td class=\"num\">\n",
              "\t\t-1.01%\n",
              "\t\t</td>\n",
              "</tr>\n",
              "<tr class=\"up\">\n",
              "<td class=\"date\">\n",
              "\t\t\n",
              "\t\t2021.07.29\t\t\t\t\n",
              "\t\t</td>\n",
              "<td class=\"num\">\n",
              "\t\t\t\n",
              "\t\t\t\t\n",
              "\t\t\t\t1,831.20\n",
              "\t\t\t\n",
              "\t\t</td>\n",
              "<td class=\"num\">\n",
              "<img alt=\"상승\" height=\"6\" src=\"https://ssl.pstatic.net/static/nfinance/ico_up.gif\" width=\"7\"/> 31.50\n",
              "\t\t\t\n",
              "\t\t</td>\n",
              "<td class=\"num\">\n",
              "\t\t +1.75%\n",
              "\t\t</td>\n",
              "</tr>\n",
              "<tr class=\"down\">\n",
              "<td class=\"date\">\n",
              "\t\t\n",
              "\t\t2021.07.28\t\t\t\t\n",
              "\t\t</td>\n",
              "<td class=\"num\">\n",
              "\t\t\t\n",
              "\t\t\t\t\n",
              "\t\t\t\t1,799.70\n",
              "\t\t\t\n",
              "\t\t</td>\n",
              "<td class=\"num\">\n",
              "<img alt=\"하락\" height=\"6\" src=\"https://ssl.pstatic.net/static/nfinance/ico_down.gif\" width=\"7\"/> 0.10\n",
              "\t\t\t\n",
              "\t\t</td>\n",
              "<td class=\"num\">\n",
              "\t\t0.00%\n",
              "\t\t</td>\n",
              "</tr>\n",
              "<tr class=\"up\">\n",
              "<td class=\"date\">\n",
              "\t\t\n",
              "\t\t2021.07.27\t\t\t\t\n",
              "\t\t</td>\n",
              "<td class=\"num\">\n",
              "\t\t\t\n",
              "\t\t\t\t\n",
              "\t\t\t\t1,799.80\n",
              "\t\t\t\n",
              "\t\t</td>\n",
              "<td class=\"num\">\n",
              "<img alt=\"상승\" height=\"6\" src=\"https://ssl.pstatic.net/static/nfinance/ico_up.gif\" width=\"7\"/> 0.60\n",
              "\t\t\t\n",
              "\t\t</td>\n",
              "<td class=\"num\">\n",
              "\t\t +0.03%\n",
              "\t\t</td>\n",
              "</tr>\n",
              "<tr class=\"down\">\n",
              "<td class=\"date\">\n",
              "\t\t\n",
              "\t\t2021.07.26\t\t\t\t\n",
              "\t\t</td>\n",
              "<td class=\"num\">\n",
              "\t\t\t\n",
              "\t\t\t\t\n",
              "\t\t\t\t1,799.20\n",
              "\t\t\t\n",
              "\t\t</td>\n",
              "<td class=\"num\">\n",
              "<img alt=\"하락\" height=\"6\" src=\"https://ssl.pstatic.net/static/nfinance/ico_down.gif\" width=\"7\"/> 2.60\n",
              "\t\t\t\n",
              "\t\t</td>\n",
              "<td class=\"num\">\n",
              "\t\t-0.14%\n",
              "\t\t</td>\n",
              "</tr>\n",
              "<tr class=\"down\">\n",
              "<td class=\"date\">\n",
              "\t\t\n",
              "\t\t2021.07.23\t\t\t\t\n",
              "\t\t</td>\n",
              "<td class=\"num\">\n",
              "\t\t\t\n",
              "\t\t\t\t\n",
              "\t\t\t\t1,801.80\n",
              "\t\t\t\n",
              "\t\t</td>\n",
              "<td class=\"num\">\n",
              "<img alt=\"하락\" height=\"6\" src=\"https://ssl.pstatic.net/static/nfinance/ico_down.gif\" width=\"7\"/> 3.60\n",
              "\t\t\t\n",
              "\t\t</td>\n",
              "<td class=\"num\">\n",
              "\t\t-0.19%\n",
              "\t\t</td>\n",
              "</tr>\n",
              "</tbody>\n",
              "</table>\n",
              "<!-- paging -->\n",
              "<div class=\"paging\">\n",
              "<a class=\"on\" href=\"/marketindex/worldDailyQuote.nhn?marketindexCd=CMDT_GC&amp;fdtc=2&amp;page=1\" onclick=\"parent.clickcr(this,'med.pagination','','',event);\">1</a>\n",
              "<a href=\"/marketindex/worldDailyQuote.nhn?marketindexCd=CMDT_GC&amp;fdtc=2&amp;page=2\" onclick=\"parent.clickcr(this,'med.pagination','','',event);\">2</a>\n",
              "<a href=\"/marketindex/worldDailyQuote.nhn?marketindexCd=CMDT_GC&amp;fdtc=2&amp;page=3\" onclick=\"parent.clickcr(this,'med.pagination','','',event);\">3</a>\n",
              "<a href=\"/marketindex/worldDailyQuote.nhn?marketindexCd=CMDT_GC&amp;fdtc=2&amp;page=4\" onclick=\"parent.clickcr(this,'med.pagination','','',event);\">4</a>\n",
              "<a href=\"/marketindex/worldDailyQuote.nhn?marketindexCd=CMDT_GC&amp;fdtc=2&amp;page=5\" onclick=\"parent.clickcr(this,'med.pagination','','',event);\">5</a>\n",
              "<a class=\"next\" href=\"/marketindex/worldDailyQuote.nhn?marketindexCd=CMDT_GC&amp;fdtc=2&amp;page=6\" onclick=\"parent.clickcr(this,'med.pagination','','',event);\">다음 <img alt=\"\" border=\"0\" height=\"5\" src=\"https://ssl.pstatic.net/static/nfinance/bu_pgarR.gif\" width=\"3\"/></a>\n",
              "</div>\n",
              "</div>\n",
              "<script type=\"text/javascript\">\n",
              "</script>\n",
              "</body>\n",
              "</html>"
            ]
          },
          "execution_count": 4,
          "metadata": {},
          "output_type": "execute_result"
        }
      ]
    },
    {
      "cell_type": "markdown",
      "metadata": {
        "id": "c551a66b"
      },
      "source": [
        "- prettify 함수를 사용하면 tab 기준으로 \"이쁘게\" 보인다는데 아직 아는 게 없어서 차이점을 못 느끼겠습니다."
      ],
      "id": "c551a66b"
    },
    {
      "cell_type": "code",
      "metadata": {
        "id": "5fd0cabb",
        "outputId": "28302b1a-06b9-46e2-ba45-6ca81ad26bd7"
      },
      "source": [
        "print(source.prettify())"
      ],
      "id": "5fd0cabb",
      "execution_count": null,
      "outputs": [
        {
          "name": "stdout",
          "output_type": "stream",
          "text": [
            "<html lang=\"ko\">\n",
            " <head>\n",
            "  <title>\n",
            "   네이버 금융\n",
            "  </title>\n",
            "  <meta content=\"text/html; charset=utf-8\" http-equiv=\"Content-Type\"/>\n",
            "  <meta content=\"text/javascript\" http-equiv=\"Content-Script-Type\"/>\n",
            "  <meta content=\"text/css\" http-equiv=\"Content-Style-Type\"/>\n",
            "  <link href=\"https://ssl.pstatic.net/imgstock/static.pc/20210721200146/css/finance.css\" rel=\"stylesheet\" type=\"text/css\"/>\n",
            "  <script language=\"javascript\">\n",
            "   document.domain=\"naver.com\";\n",
            "  </script>\n",
            "  <script src=\"https://ssl.pstatic.net/imgstock/static.pc/20210721200146/js/info/jindo.min.ns.1.5.3.euckr.js\" type=\"text/javascript\">\n",
            "  </script>\n",
            "  <script src=\"https://ssl.pstatic.net/imgstock/static.pc/20210721200146/js/lcslog.js\" type=\"text/javascript\">\n",
            "  </script>\n",
            " </head>\n",
            " <body>\n",
            "  <div class=\"section_exchange2\">\n",
            "   <h3 class=\"h_today\">\n",
            "    <span>\n",
            "     일별 시세\n",
            "    </span>\n",
            "   </h3>\n",
            "   <table border=\"1\" class=\"tbl_exchange today\" summary=\"일별 시세 리스트\">\n",
            "    <caption>\n",
            "     일별 시세\n",
            "    </caption>\n",
            "    <colgroup>\n",
            "     <col width=\"85\"/>\n",
            "     <col width=\"83\"/>\n",
            "     <col width=\"83\"/>\n",
            "     <col width=\"82\"/>\n",
            "    </colgroup>\n",
            "    <thead>\n",
            "     <tr>\n",
            "      <th class=\"th_today1\">\n",
            "       <span>\n",
            "        날짜\n",
            "       </span>\n",
            "      </th>\n",
            "      <th class=\"th_today2\">\n",
            "       <span>\n",
            "        파실 때\n",
            "       </span>\n",
            "      </th>\n",
            "      <th class=\"th_today3\">\n",
            "       <span>\n",
            "        보내실 때\n",
            "       </span>\n",
            "      </th>\n",
            "      <th class=\"th_today4\">\n",
            "       <span>\n",
            "        받으실 때\n",
            "       </span>\n",
            "      </th>\n",
            "     </tr>\n",
            "    </thead>\n",
            "    <tbody>\n",
            "     <tr class=\"up\">\n",
            "      <td class=\"date\">\n",
            "       2021.08.02\n",
            "      </td>\n",
            "      <td class=\"num\">\n",
            "       1,818.10\n",
            "      </td>\n",
            "      <td class=\"num\">\n",
            "       <img alt=\"상승\" height=\"6\" src=\"https://ssl.pstatic.net/static/nfinance/ico_up.gif\" width=\"7\"/>\n",
            "       5.50\n",
            "      </td>\n",
            "      <td class=\"num\">\n",
            "       +0.30%\n",
            "      </td>\n",
            "     </tr>\n",
            "     <tr class=\"down\">\n",
            "      <td class=\"date\">\n",
            "       2021.07.30\n",
            "      </td>\n",
            "      <td class=\"num\">\n",
            "       1,812.60\n",
            "      </td>\n",
            "      <td class=\"num\">\n",
            "       <img alt=\"하락\" height=\"6\" src=\"https://ssl.pstatic.net/static/nfinance/ico_down.gif\" width=\"7\"/>\n",
            "       18.60\n",
            "      </td>\n",
            "      <td class=\"num\">\n",
            "       -1.01%\n",
            "      </td>\n",
            "     </tr>\n",
            "     <tr class=\"up\">\n",
            "      <td class=\"date\">\n",
            "       2021.07.29\n",
            "      </td>\n",
            "      <td class=\"num\">\n",
            "       1,831.20\n",
            "      </td>\n",
            "      <td class=\"num\">\n",
            "       <img alt=\"상승\" height=\"6\" src=\"https://ssl.pstatic.net/static/nfinance/ico_up.gif\" width=\"7\"/>\n",
            "       31.50\n",
            "      </td>\n",
            "      <td class=\"num\">\n",
            "       +1.75%\n",
            "      </td>\n",
            "     </tr>\n",
            "     <tr class=\"down\">\n",
            "      <td class=\"date\">\n",
            "       2021.07.28\n",
            "      </td>\n",
            "      <td class=\"num\">\n",
            "       1,799.70\n",
            "      </td>\n",
            "      <td class=\"num\">\n",
            "       <img alt=\"하락\" height=\"6\" src=\"https://ssl.pstatic.net/static/nfinance/ico_down.gif\" width=\"7\"/>\n",
            "       0.10\n",
            "      </td>\n",
            "      <td class=\"num\">\n",
            "       0.00%\n",
            "      </td>\n",
            "     </tr>\n",
            "     <tr class=\"up\">\n",
            "      <td class=\"date\">\n",
            "       2021.07.27\n",
            "      </td>\n",
            "      <td class=\"num\">\n",
            "       1,799.80\n",
            "      </td>\n",
            "      <td class=\"num\">\n",
            "       <img alt=\"상승\" height=\"6\" src=\"https://ssl.pstatic.net/static/nfinance/ico_up.gif\" width=\"7\"/>\n",
            "       0.60\n",
            "      </td>\n",
            "      <td class=\"num\">\n",
            "       +0.03%\n",
            "      </td>\n",
            "     </tr>\n",
            "     <tr class=\"down\">\n",
            "      <td class=\"date\">\n",
            "       2021.07.26\n",
            "      </td>\n",
            "      <td class=\"num\">\n",
            "       1,799.20\n",
            "      </td>\n",
            "      <td class=\"num\">\n",
            "       <img alt=\"하락\" height=\"6\" src=\"https://ssl.pstatic.net/static/nfinance/ico_down.gif\" width=\"7\"/>\n",
            "       2.60\n",
            "      </td>\n",
            "      <td class=\"num\">\n",
            "       -0.14%\n",
            "      </td>\n",
            "     </tr>\n",
            "     <tr class=\"down\">\n",
            "      <td class=\"date\">\n",
            "       2021.07.23\n",
            "      </td>\n",
            "      <td class=\"num\">\n",
            "       1,801.80\n",
            "      </td>\n",
            "      <td class=\"num\">\n",
            "       <img alt=\"하락\" height=\"6\" src=\"https://ssl.pstatic.net/static/nfinance/ico_down.gif\" width=\"7\"/>\n",
            "       3.60\n",
            "      </td>\n",
            "      <td class=\"num\">\n",
            "       -0.19%\n",
            "      </td>\n",
            "     </tr>\n",
            "    </tbody>\n",
            "   </table>\n",
            "   <!-- paging -->\n",
            "   <div class=\"paging\">\n",
            "    <a class=\"on\" href=\"/marketindex/worldDailyQuote.nhn?marketindexCd=CMDT_GC&amp;fdtc=2&amp;page=1\" onclick=\"parent.clickcr(this,'med.pagination','','',event);\">\n",
            "     1\n",
            "    </a>\n",
            "    <a href=\"/marketindex/worldDailyQuote.nhn?marketindexCd=CMDT_GC&amp;fdtc=2&amp;page=2\" onclick=\"parent.clickcr(this,'med.pagination','','',event);\">\n",
            "     2\n",
            "    </a>\n",
            "    <a href=\"/marketindex/worldDailyQuote.nhn?marketindexCd=CMDT_GC&amp;fdtc=2&amp;page=3\" onclick=\"parent.clickcr(this,'med.pagination','','',event);\">\n",
            "     3\n",
            "    </a>\n",
            "    <a href=\"/marketindex/worldDailyQuote.nhn?marketindexCd=CMDT_GC&amp;fdtc=2&amp;page=4\" onclick=\"parent.clickcr(this,'med.pagination','','',event);\">\n",
            "     4\n",
            "    </a>\n",
            "    <a href=\"/marketindex/worldDailyQuote.nhn?marketindexCd=CMDT_GC&amp;fdtc=2&amp;page=5\" onclick=\"parent.clickcr(this,'med.pagination','','',event);\">\n",
            "     5\n",
            "    </a>\n",
            "    <a class=\"next\" href=\"/marketindex/worldDailyQuote.nhn?marketindexCd=CMDT_GC&amp;fdtc=2&amp;page=6\" onclick=\"parent.clickcr(this,'med.pagination','','',event);\">\n",
            "     다음\n",
            "     <img alt=\"\" border=\"0\" height=\"5\" src=\"https://ssl.pstatic.net/static/nfinance/bu_pgarR.gif\" width=\"3\"/>\n",
            "    </a>\n",
            "   </div>\n",
            "  </div>\n",
            "  <script type=\"text/javascript\">\n",
            "  </script>\n",
            " </body>\n",
            "</html>\n"
          ]
        }
      ]
    },
    {
      "cell_type": "markdown",
      "metadata": {
        "id": "59baaf24"
      },
      "source": [
        "- 수업 시간에 봤던 예제처럼 <td> 태그 안에 데이터가 있기 때문에 td 태그에 있는 모든 데이터를 가져옵니다.\n",
        "- len으로 리스트 원소의 개수를 알아본다."
      ],
      "id": "59baaf24"
    },
    {
      "cell_type": "code",
      "metadata": {
        "id": "241f8968",
        "outputId": "dd780e98-48b2-4bd6-accb-021a8cbe5689"
      },
      "source": [
        "td = source.find_all('td')\n",
        "len(td)"
      ],
      "id": "241f8968",
      "execution_count": null,
      "outputs": [
        {
          "data": {
            "text/plain": [
              "28"
            ]
          },
          "execution_count": 6,
          "metadata": {},
          "output_type": "execute_result"
        }
      ]
    },
    {
      "cell_type": "markdown",
      "metadata": {
        "id": "d6ce30fd"
      },
      "source": [
        "### 날짜를 추출합니다\n",
        "- 날짜 정보들은 td 태그 중 class가 \"date\" 인 태그에 있습니다.\n",
        "- xpath로 접근해보고 추출해보기\n",
        "- /html/body/div/table/tbody/tr[1]/td[1] = 2021.07.30"
      ],
      "id": "d6ce30fd"
    },
    {
      "cell_type": "code",
      "metadata": {
        "id": "ce9b4c2f",
        "outputId": "ccb74d25-5133-445c-e820-9d5b41f69d2c"
      },
      "source": [
        "# /html/body/div/table/tbody/tr[1]/td[1]\n",
        "source.find_all('tr')[1].find_all('td')[0]"
      ],
      "id": "ce9b4c2f",
      "execution_count": null,
      "outputs": [
        {
          "data": {
            "text/plain": [
              "<td class=\"date\">\n",
              "\t\t\n",
              "\t\t2021.08.02\t\t\t\t\n",
              "\t\t</td>"
            ]
          },
          "execution_count": 7,
          "metadata": {},
          "output_type": "execute_result"
        }
      ]
    },
    {
      "cell_type": "markdown",
      "metadata": {
        "id": "fd21c914"
      },
      "source": [
        "- .text로 원하는 데이터를 구했지만 \\n, \\t가 섞여 있어서 .replace()로 제거합니다"
      ],
      "id": "fd21c914"
    },
    {
      "cell_type": "code",
      "metadata": {
        "id": "4e76dcb4",
        "outputId": "5b4f9747-286b-4a27-d023-d9d444669842"
      },
      "source": [
        "source.find_all('td', class_=\"date\")[1].text"
      ],
      "id": "4e76dcb4",
      "execution_count": null,
      "outputs": [
        {
          "data": {
            "text/plain": [
              "'\\n\\t\\t\\n\\t\\t2021.07.30\\t\\t\\t\\t\\n\\t\\t'"
            ]
          },
          "execution_count": 8,
          "metadata": {},
          "output_type": "execute_result"
        }
      ]
    },
    {
      "cell_type": "code",
      "metadata": {
        "id": "2dbc57b4",
        "outputId": "92cde707-1cec-4fc9-f5cb-4e9ec88997bd"
      },
      "source": [
        "source.find_all('td', class_=\"date\")[0].text.replace('\\t','').replace('\\n','')"
      ],
      "id": "2dbc57b4",
      "execution_count": null,
      "outputs": [
        {
          "data": {
            "text/plain": [
              "'2021.08.02'"
            ]
          },
          "execution_count": 9,
          "metadata": {},
          "output_type": "execute_result"
        }
      ]
    },
    {
      "cell_type": "markdown",
      "metadata": {
        "id": "e2c1ff90"
      },
      "source": [
        "- 가져온 데이터를 yyyy.mm.dd 형태로 변환합니다."
      ],
      "id": "e2c1ff90"
    },
    {
      "cell_type": "code",
      "metadata": {
        "id": "b19a1d3e"
      },
      "source": [
        "import datetime as dt"
      ],
      "id": "b19a1d3e",
      "execution_count": null,
      "outputs": []
    },
    {
      "cell_type": "code",
      "metadata": {
        "id": "e152d637",
        "outputId": "e3939202-172a-4b32-a423-d60936c636d4"
      },
      "source": [
        "date = source.find_all('td', class_=\"date\")[0].text.replace('\\t','').replace('\\n','')\n",
        "\n",
        "yyyy, mm, dd = [int(x) for x in date.split('.')]\n",
        "yyyy, mm, dd"
      ],
      "id": "e152d637",
      "execution_count": null,
      "outputs": [
        {
          "data": {
            "text/plain": [
              "(2021, 8, 2)"
            ]
          },
          "execution_count": 11,
          "metadata": {},
          "output_type": "execute_result"
        }
      ]
    },
    {
      "cell_type": "code",
      "metadata": {
        "id": "4485377e",
        "outputId": "08b97772-dc65-4203-af1a-0901010c1b84"
      },
      "source": [
        "this_date = dt.date(yyyy, mm, dd)\n",
        "this_date"
      ],
      "id": "4485377e",
      "execution_count": null,
      "outputs": [
        {
          "data": {
            "text/plain": [
              "datetime.date(2021, 8, 2)"
            ]
          },
          "execution_count": 12,
          "metadata": {},
          "output_type": "execute_result"
        }
      ]
    },
    {
      "cell_type": "code",
      "metadata": {
        "id": "459d3700"
      },
      "source": [
        "def date_format(date):\n",
        "    yyyy, mm, dd = [int(x) for x in date.split('.')]\n",
        "    return dt.date(yyyy, mm, dd)"
      ],
      "id": "459d3700",
      "execution_count": null,
      "outputs": []
    },
    {
      "cell_type": "markdown",
      "metadata": {
        "id": "e0463271"
      },
      "source": [
        "### 종가를 추출합니다."
      ],
      "id": "e0463271"
    },
    {
      "cell_type": "code",
      "metadata": {
        "id": "4423fa1b",
        "outputId": "844f9809-13c8-450a-c6ff-48008670a120"
      },
      "source": [
        "source.find_all('td', class_='num')[0].text\n"
      ],
      "id": "4423fa1b",
      "execution_count": null,
      "outputs": [
        {
          "data": {
            "text/plain": [
              "'\\n\\t\\t\\t\\n\\t\\t\\t\\t\\n\\t\\t\\t\\t1,818.10\\n\\t\\t\\t\\n\\t\\t'"
            ]
          },
          "execution_count": 14,
          "metadata": {},
          "output_type": "execute_result"
        }
      ]
    },
    {
      "cell_type": "markdown",
      "metadata": {
        "id": "63d66c78"
      },
      "source": [
        "- 이 데이터도 \\n, \\t, ' ' 가 섞여 있어서 replace(), strip()로 처리해줍니다."
      ],
      "id": "63d66c78"
    },
    {
      "cell_type": "code",
      "metadata": {
        "id": "dc05a51a",
        "outputId": "05d3cdcb-d3e4-4901-f746-0bb641f1900f"
      },
      "source": [
        "p = source.find_all('td', class_='num')[0].text.replace('\\n','').replace('\\t','').strip()\n",
        "p"
      ],
      "id": "dc05a51a",
      "execution_count": null,
      "outputs": [
        {
          "data": {
            "text/plain": [
              "'1,818.10'"
            ]
          },
          "execution_count": 15,
          "metadata": {},
          "output_type": "execute_result"
        }
      ]
    },
    {
      "cell_type": "markdown",
      "metadata": {
        "id": "51e3c058"
      },
      "source": [
        "- source로 가져온 데이터를 보니  이 데이터도 num 클래스에 종가 말고 다른 데이터가 많습니다."
      ],
      "id": "51e3c058"
    },
    {
      "cell_type": "code",
      "metadata": {
        "id": "317cd3d2",
        "outputId": "9af0425a-a0fb-45c3-e35c-78b2cca8ea17"
      },
      "source": [
        "source.find_all('td', class_='num')[1].text.replace('\\n','').replace('\\t','').strip()"
      ],
      "id": "317cd3d2",
      "execution_count": null,
      "outputs": [
        {
          "data": {
            "text/plain": [
              "'5.50'"
            ]
          },
          "execution_count": 16,
          "metadata": {},
          "output_type": "execute_result"
        }
      ]
    },
    {
      "cell_type": "code",
      "metadata": {
        "id": "18d3d6c0",
        "outputId": "5f946541-78fc-4c7b-a6bf-e66698055b6e"
      },
      "source": [
        "source.find_all('td', class_='num')[2].text.replace('\\n','').replace('\\t','').strip()"
      ],
      "id": "18d3d6c0",
      "execution_count": null,
      "outputs": [
        {
          "data": {
            "text/plain": [
              "'+0.30%'"
            ]
          },
          "execution_count": 17,
          "metadata": {},
          "output_type": "execute_result"
        }
      ]
    },
    {
      "cell_type": "code",
      "metadata": {
        "id": "6b979573",
        "outputId": "778da16f-1ece-4fbb-9612-e88ed96d281d"
      },
      "source": [
        "source.find_all('td', class_='num')[3].text.replace('\\n','').replace('\\t','').strip()"
      ],
      "id": "6b979573",
      "execution_count": null,
      "outputs": [
        {
          "data": {
            "text/plain": [
              "'1,812.60'"
            ]
          },
          "execution_count": 18,
          "metadata": {},
          "output_type": "execute_result"
        }
      ]
    },
    {
      "cell_type": "code",
      "metadata": {
        "id": "2903f291",
        "outputId": "97672b63-81ed-49c2-9c6c-ba0ce05ffee5"
      },
      "source": [
        "source.find_all('td', class_='num')[6].text.replace('\\n','').replace('\\t','').strip()"
      ],
      "id": "2903f291",
      "execution_count": null,
      "outputs": [
        {
          "data": {
            "text/plain": [
              "'1,831.20'"
            ]
          },
          "execution_count": 19,
          "metadata": {},
          "output_type": "execute_result"
        }
      ]
    },
    {
      "cell_type": "markdown",
      "metadata": {
        "id": "c264c811"
      },
      "source": [
        "- 하나씩 확인해 보니 0, 3, 6, ... 이런 순서로 종가가 나옵니다."
      ],
      "id": "c264c811"
    },
    {
      "cell_type": "markdown",
      "metadata": {
        "id": "7ad0d071"
      },
      "source": [
        "### 등락률 불러오기"
      ],
      "id": "7ad0d071"
    },
    {
      "cell_type": "code",
      "metadata": {
        "id": "f7bd3084",
        "outputId": "1e542056-12e5-4622-d3a8-cf3a4354c665"
      },
      "source": [
        "source.find_all('td', class_='num')[11].text.replace('\\n','').replace('\\t','').replace('%','').strip()\n"
      ],
      "id": "f7bd3084",
      "execution_count": null,
      "outputs": [
        {
          "data": {
            "text/plain": [
              "'0.00'"
            ]
          },
          "execution_count": 20,
          "metadata": {},
          "output_type": "execute_result"
        }
      ]
    },
    {
      "cell_type": "markdown",
      "metadata": {
        "id": "da0aece8"
      },
      "source": [
        "- 2, 5, 8, 11, ... 순서로 등락률이 나타난다."
      ],
      "id": "da0aece8"
    },
    {
      "cell_type": "code",
      "metadata": {
        "id": "91547e3d",
        "outputId": "8d9a7a4c-5348-4987-9bfc-c722b7918f62"
      },
      "source": [
        "prices[i*3-1].text"
      ],
      "id": "91547e3d",
      "execution_count": null,
      "outputs": [
        {
          "ename": "NameError",
          "evalue": "name 'prices' is not defined",
          "output_type": "error",
          "traceback": [
            "\u001b[1;31m---------------------------------------------------------------------------\u001b[0m",
            "\u001b[1;31mNameError\u001b[0m                                 Traceback (most recent call last)",
            "\u001b[1;32m<ipython-input-21-a28a60d701fb>\u001b[0m in \u001b[0;36m<module>\u001b[1;34m\u001b[0m\n\u001b[1;32m----> 1\u001b[1;33m \u001b[0mprices\u001b[0m\u001b[1;33m[\u001b[0m\u001b[0mi\u001b[0m\u001b[1;33m*\u001b[0m\u001b[1;36m3\u001b[0m\u001b[1;33m-\u001b[0m\u001b[1;36m1\u001b[0m\u001b[1;33m]\u001b[0m\u001b[1;33m.\u001b[0m\u001b[0mtext\u001b[0m\u001b[1;33m\u001b[0m\u001b[1;33m\u001b[0m\u001b[0m\n\u001b[0m",
            "\u001b[1;31mNameError\u001b[0m: name 'prices' is not defined"
          ]
        }
      ]
    },
    {
      "cell_type": "code",
      "metadata": {
        "id": "9dbf3153"
      },
      "source": [
        ""
      ],
      "id": "9dbf3153",
      "execution_count": null,
      "outputs": []
    },
    {
      "cell_type": "markdown",
      "metadata": {
        "id": "88c790ad"
      },
      "source": [
        "- 이제 이런 규칙을 사용해 날짜와 종가와 등락률을 함께 불러옵니다."
      ],
      "id": "88c790ad"
    },
    {
      "cell_type": "code",
      "metadata": {
        "id": "4016e818",
        "outputId": "3ad1b1ff-8379-40c7-9144-165c7791f325"
      },
      "source": [
        "dates = source.find_all('td', class_='date')\n",
        "len(dates)\n"
      ],
      "id": "4016e818",
      "execution_count": null,
      "outputs": [
        {
          "data": {
            "text/plain": [
              "7"
            ]
          },
          "execution_count": 22,
          "metadata": {},
          "output_type": "execute_result"
        }
      ]
    },
    {
      "cell_type": "code",
      "metadata": {
        "id": "99149d4b",
        "outputId": "5b01926a-ae0b-404b-ccbb-f905a04a848d"
      },
      "source": [
        "prices = source.find_all('td', class_='num')\n",
        "len(prices)"
      ],
      "id": "99149d4b",
      "execution_count": null,
      "outputs": [
        {
          "data": {
            "text/plain": [
              "21"
            ]
          },
          "execution_count": 23,
          "metadata": {},
          "output_type": "execute_result"
        }
      ]
    },
    {
      "cell_type": "code",
      "metadata": {
        "id": "ac2a3274",
        "outputId": "0841da98-17e4-4072-8a40-6c540298815e"
      },
      "source": [
        "for i in range(len(dates)):\n",
        "    this_date = dates[i].text\n",
        "    this_date = date_format(this_date)   \n",
        "    this_close = prices[i*3].text.replace('\\n','').replace('\\t','').replace(',','')\n",
        "    this_close = float(this_close)\n",
        "    this_ratio = prices[i*3+2].text.replace('\\n','').replace('\\t','').replace('%','')\n",
        "    this_ratio = float(this_ratio)\n",
        "    print(this_date, this_close, this_ratio)"
      ],
      "id": "ac2a3274",
      "execution_count": null,
      "outputs": [
        {
          "name": "stdout",
          "output_type": "stream",
          "text": [
            "2021-08-02 1818.1 0.3\n",
            "2021-07-30 1812.6 -1.01\n",
            "2021-07-29 1831.2 1.75\n",
            "2021-07-28 1799.7 0.0\n",
            "2021-07-27 1799.8 0.03\n",
            "2021-07-26 1799.2 -0.14\n",
            "2021-07-23 1801.8 -0.19\n"
          ]
        }
      ]
    },
    {
      "cell_type": "markdown",
      "metadata": {
        "id": "f2893156"
      },
      "source": [
        "### 100 페이지에 있는 데이터 크롤링"
      ],
      "id": "f2893156"
    },
    {
      "cell_type": "code",
      "metadata": {
        "id": "07c7aa30",
        "outputId": "86c6be46-b890-4b81-a64a-208c08dd205e"
      },
      "source": [
        "index_cd = \"CMDT_GC\"\n",
        "page_n = 1  # page number\n",
        "naver_index = f\"https://finance.naver.com/marketindex/worldDailyQuote.nhn?marketindexCd={index_cd}&fdtc=2&page={page_n}\"\n",
        "src = urlopen(naver_index).read()\n",
        "source = bs4.BeautifulSoup(src, 'lxml')\n",
        "td = source.find_all('td')\n",
        "dates = source.find_all('td', class_='date')\n",
        "prices = source.find_all('td', class_='num')\n",
        "\n",
        "for i in range(len(dates)):\n",
        "    this_date = dates[i].text.replace('\\m', '').replace('\\t', '').strip()\n",
        "    this_date =date_format(this_date)\n",
        "    this_close = prices[i*3].text.replace('\\n','').replace('\\t','').replace(',','')\n",
        "    this_close = float(this_close)\n",
        "    this_ratio = prices[i*3+2].text.replace('\\n','').replace('\\t','').replace('%','')\n",
        "    this_ratio = float(this_ratio)\n",
        "    print(this_date, this_close, this_ratio)"
      ],
      "id": "07c7aa30",
      "execution_count": null,
      "outputs": [
        {
          "name": "stdout",
          "output_type": "stream",
          "text": [
            "2021-08-02 1818.1 0.3\n",
            "2021-07-30 1812.6 -1.01\n",
            "2021-07-29 1831.2 1.75\n",
            "2021-07-28 1799.7 0.0\n",
            "2021-07-27 1799.8 0.03\n",
            "2021-07-26 1799.2 -0.14\n",
            "2021-07-23 1801.8 -0.19\n"
          ]
        }
      ]
    },
    {
      "cell_type": "markdown",
      "metadata": {
        "id": "1233c423"
      },
      "source": [
        "### 위에서 한 작업들 하나로 묶기"
      ],
      "id": "1233c423"
    },
    {
      "cell_type": "code",
      "metadata": {
        "id": "cd0987e5"
      },
      "source": [
        "def crawl_gold_index(index_cd, end_page):\n",
        "    date_list = []\n",
        "    price_list = []\n",
        "    ratio_list = []\n",
        "    for page_n in range(1, end_page+1):\n",
        "        naver_index = f\"https://finance.naver.com/marketindex/worldDailyQuote.nhn?marketindexCd={index_cd}&fdtc=2&page={page_n}\"\n",
        "        src = urlopen(naver_index).read()\n",
        "        source = bs4.BeautifulSoup(src, 'lxml')\n",
        "        td = source.find_all('td')\n",
        "        dates = source.find_all('td', class_='date')\n",
        "        prices = source.find_all('td', class_='num')\n",
        "        for i in range(len(dates)):\n",
        "            this_date = dates[i].text.replace('\\m', '').replace('\\t', '').strip()\n",
        "            this_date =date_format(this_date)\n",
        "            this_close = prices[i*3].text.replace('\\n','').replace('\\t','').replace(',','')\n",
        "            this_close = float(this_close)\n",
        "            this_ratio = prices[i*3+2].text.replace('\\n','').replace('\\t','').replace('%','')\n",
        "            this_ratio = float(this_ratio)\n",
        "            date_list.append(this_date)\n",
        "            price_list.append(this_close)\n",
        "            ratio_list.append(this_ratio)\n",
        "        \n",
        "    df = pd.DataFrame({'날짜' : date_list, \"체결가\" : price_list, \"등락률\" : ratio_list})\n",
        "    return df\n",
        "\n"
      ],
      "id": "cd0987e5",
      "execution_count": null,
      "outputs": []
    },
    {
      "cell_type": "code",
      "metadata": {
        "id": "080dbf60",
        "outputId": "d3c504bd-fd73-404f-8fdc-7f476b86fa69"
      },
      "source": [
        "crawl_gold_index(\"CMDT_GC\", 20)"
      ],
      "id": "080dbf60",
      "execution_count": null,
      "outputs": [
        {
          "data": {
            "text/html": [
              "<div>\n",
              "<style scoped>\n",
              "    .dataframe tbody tr th:only-of-type {\n",
              "        vertical-align: middle;\n",
              "    }\n",
              "\n",
              "    .dataframe tbody tr th {\n",
              "        vertical-align: top;\n",
              "    }\n",
              "\n",
              "    .dataframe thead th {\n",
              "        text-align: right;\n",
              "    }\n",
              "</style>\n",
              "<table border=\"1\" class=\"dataframe\">\n",
              "  <thead>\n",
              "    <tr style=\"text-align: right;\">\n",
              "      <th></th>\n",
              "      <th>날짜</th>\n",
              "      <th>체결가</th>\n",
              "      <th>등락률</th>\n",
              "    </tr>\n",
              "  </thead>\n",
              "  <tbody>\n",
              "    <tr>\n",
              "      <th>0</th>\n",
              "      <td>2021-08-02</td>\n",
              "      <td>1818.1</td>\n",
              "      <td>0.30</td>\n",
              "    </tr>\n",
              "    <tr>\n",
              "      <th>1</th>\n",
              "      <td>2021-07-30</td>\n",
              "      <td>1812.6</td>\n",
              "      <td>-1.01</td>\n",
              "    </tr>\n",
              "    <tr>\n",
              "      <th>2</th>\n",
              "      <td>2021-07-29</td>\n",
              "      <td>1831.2</td>\n",
              "      <td>1.75</td>\n",
              "    </tr>\n",
              "    <tr>\n",
              "      <th>3</th>\n",
              "      <td>2021-07-28</td>\n",
              "      <td>1799.7</td>\n",
              "      <td>0.00</td>\n",
              "    </tr>\n",
              "    <tr>\n",
              "      <th>4</th>\n",
              "      <td>2021-07-27</td>\n",
              "      <td>1799.8</td>\n",
              "      <td>0.03</td>\n",
              "    </tr>\n",
              "    <tr>\n",
              "      <th>...</th>\n",
              "      <td>...</td>\n",
              "      <td>...</td>\n",
              "      <td>...</td>\n",
              "    </tr>\n",
              "    <tr>\n",
              "      <th>135</th>\n",
              "      <td>2021-01-19</td>\n",
              "      <td>1839.5</td>\n",
              "      <td>0.55</td>\n",
              "    </tr>\n",
              "    <tr>\n",
              "      <th>136</th>\n",
              "      <td>2021-01-15</td>\n",
              "      <td>1829.3</td>\n",
              "      <td>-1.13</td>\n",
              "    </tr>\n",
              "    <tr>\n",
              "      <th>137</th>\n",
              "      <td>2021-01-14</td>\n",
              "      <td>1850.3</td>\n",
              "      <td>-0.17</td>\n",
              "    </tr>\n",
              "    <tr>\n",
              "      <th>138</th>\n",
              "      <td>2021-01-13</td>\n",
              "      <td>1853.6</td>\n",
              "      <td>0.58</td>\n",
              "    </tr>\n",
              "    <tr>\n",
              "      <th>139</th>\n",
              "      <td>2021-01-12</td>\n",
              "      <td>1842.9</td>\n",
              "      <td>-0.36</td>\n",
              "    </tr>\n",
              "  </tbody>\n",
              "</table>\n",
              "<p>140 rows × 3 columns</p>\n",
              "</div>"
            ],
            "text/plain": [
              "             날짜     체결가   등락률\n",
              "0    2021-08-02  1818.1  0.30\n",
              "1    2021-07-30  1812.6 -1.01\n",
              "2    2021-07-29  1831.2  1.75\n",
              "3    2021-07-28  1799.7  0.00\n",
              "4    2021-07-27  1799.8  0.03\n",
              "..          ...     ...   ...\n",
              "135  2021-01-19  1839.5  0.55\n",
              "136  2021-01-15  1829.3 -1.13\n",
              "137  2021-01-14  1850.3 -0.17\n",
              "138  2021-01-13  1853.6  0.58\n",
              "139  2021-01-12  1842.9 -0.36\n",
              "\n",
              "[140 rows x 3 columns]"
            ]
          },
          "execution_count": 27,
          "metadata": {},
          "output_type": "execute_result"
        }
      ]
    },
    {
      "cell_type": "markdown",
      "metadata": {
        "id": "87f5909b"
      },
      "source": [
        "WTI도 비슷한 구조로 되어 있어서 한번 실험으로 불러와보겠습니다."
      ],
      "id": "87f5909b"
    },
    {
      "cell_type": "code",
      "metadata": {
        "id": "dc9edd0a",
        "outputId": "8fe6e27e-6b33-4884-85c8-ed0242415806"
      },
      "source": [
        "crawl_gold_index(\"OIL_CL\", 20)"
      ],
      "id": "dc9edd0a",
      "execution_count": null,
      "outputs": [
        {
          "data": {
            "text/html": [
              "<div>\n",
              "<style scoped>\n",
              "    .dataframe tbody tr th:only-of-type {\n",
              "        vertical-align: middle;\n",
              "    }\n",
              "\n",
              "    .dataframe tbody tr th {\n",
              "        vertical-align: top;\n",
              "    }\n",
              "\n",
              "    .dataframe thead th {\n",
              "        text-align: right;\n",
              "    }\n",
              "</style>\n",
              "<table border=\"1\" class=\"dataframe\">\n",
              "  <thead>\n",
              "    <tr style=\"text-align: right;\">\n",
              "      <th></th>\n",
              "      <th>날짜</th>\n",
              "      <th>체결가</th>\n",
              "      <th>등락률</th>\n",
              "    </tr>\n",
              "  </thead>\n",
              "  <tbody>\n",
              "    <tr>\n",
              "      <th>0</th>\n",
              "      <td>2021-08-02</td>\n",
              "      <td>71.26</td>\n",
              "      <td>-3.63</td>\n",
              "    </tr>\n",
              "    <tr>\n",
              "      <th>1</th>\n",
              "      <td>2021-07-30</td>\n",
              "      <td>73.95</td>\n",
              "      <td>0.44</td>\n",
              "    </tr>\n",
              "    <tr>\n",
              "      <th>2</th>\n",
              "      <td>2021-07-29</td>\n",
              "      <td>73.62</td>\n",
              "      <td>1.69</td>\n",
              "    </tr>\n",
              "    <tr>\n",
              "      <th>3</th>\n",
              "      <td>2021-07-28</td>\n",
              "      <td>72.39</td>\n",
              "      <td>1.03</td>\n",
              "    </tr>\n",
              "    <tr>\n",
              "      <th>4</th>\n",
              "      <td>2021-07-27</td>\n",
              "      <td>71.65</td>\n",
              "      <td>-0.36</td>\n",
              "    </tr>\n",
              "    <tr>\n",
              "      <th>...</th>\n",
              "      <td>...</td>\n",
              "      <td>...</td>\n",
              "      <td>...</td>\n",
              "    </tr>\n",
              "    <tr>\n",
              "      <th>135</th>\n",
              "      <td>2021-01-19</td>\n",
              "      <td>52.98</td>\n",
              "      <td>1.06</td>\n",
              "    </tr>\n",
              "    <tr>\n",
              "      <th>136</th>\n",
              "      <td>2021-01-15</td>\n",
              "      <td>52.36</td>\n",
              "      <td>-2.25</td>\n",
              "    </tr>\n",
              "    <tr>\n",
              "      <th>137</th>\n",
              "      <td>2021-01-14</td>\n",
              "      <td>53.57</td>\n",
              "      <td>1.24</td>\n",
              "    </tr>\n",
              "    <tr>\n",
              "      <th>138</th>\n",
              "      <td>2021-01-13</td>\n",
              "      <td>52.91</td>\n",
              "      <td>-0.56</td>\n",
              "    </tr>\n",
              "    <tr>\n",
              "      <th>139</th>\n",
              "      <td>2021-01-12</td>\n",
              "      <td>53.21</td>\n",
              "      <td>1.83</td>\n",
              "    </tr>\n",
              "  </tbody>\n",
              "</table>\n",
              "<p>140 rows × 3 columns</p>\n",
              "</div>"
            ],
            "text/plain": [
              "             날짜    체결가   등락률\n",
              "0    2021-08-02  71.26 -3.63\n",
              "1    2021-07-30  73.95  0.44\n",
              "2    2021-07-29  73.62  1.69\n",
              "3    2021-07-28  72.39  1.03\n",
              "4    2021-07-27  71.65 -0.36\n",
              "..          ...    ...   ...\n",
              "135  2021-01-19  52.98  1.06\n",
              "136  2021-01-15  52.36 -2.25\n",
              "137  2021-01-14  53.57  1.24\n",
              "138  2021-01-13  52.91 -0.56\n",
              "139  2021-01-12  53.21  1.83\n",
              "\n",
              "[140 rows x 3 columns]"
            ]
          },
          "execution_count": 28,
          "metadata": {},
          "output_type": "execute_result"
        }
      ]
    },
    {
      "cell_type": "markdown",
      "metadata": {
        "id": "e0e15658"
      },
      "source": [
        "원자재는 아무래도 다 비슷한 구조로 되어있는 것 같습니다."
      ],
      "id": "e0e15658"
    },
    {
      "cell_type": "markdown",
      "metadata": {
        "id": "02279d36"
      },
      "source": [
        "구리도 한번?"
      ],
      "id": "02279d36"
    },
    {
      "cell_type": "code",
      "metadata": {
        "id": "ff9ff886",
        "outputId": "07fba273-472d-4bf0-c7de-ac254fe75177"
      },
      "source": [
        "crawl_gold_index(\"CMDT_CDY\", 20)"
      ],
      "id": "ff9ff886",
      "execution_count": null,
      "outputs": [
        {
          "data": {
            "text/html": [
              "<div>\n",
              "<style scoped>\n",
              "    .dataframe tbody tr th:only-of-type {\n",
              "        vertical-align: middle;\n",
              "    }\n",
              "\n",
              "    .dataframe tbody tr th {\n",
              "        vertical-align: top;\n",
              "    }\n",
              "\n",
              "    .dataframe thead th {\n",
              "        text-align: right;\n",
              "    }\n",
              "</style>\n",
              "<table border=\"1\" class=\"dataframe\">\n",
              "  <thead>\n",
              "    <tr style=\"text-align: right;\">\n",
              "      <th></th>\n",
              "      <th>날짜</th>\n",
              "      <th>체결가</th>\n",
              "      <th>등락률</th>\n",
              "    </tr>\n",
              "  </thead>\n",
              "  <tbody>\n",
              "    <tr>\n",
              "      <th>0</th>\n",
              "      <td>2021-08-02</td>\n",
              "      <td>9737.0</td>\n",
              "      <td>-0.11</td>\n",
              "    </tr>\n",
              "    <tr>\n",
              "      <th>1</th>\n",
              "      <td>2021-07-30</td>\n",
              "      <td>9747.5</td>\n",
              "      <td>-0.34</td>\n",
              "    </tr>\n",
              "    <tr>\n",
              "      <th>2</th>\n",
              "      <td>2021-07-29</td>\n",
              "      <td>9781.0</td>\n",
              "      <td>0.87</td>\n",
              "    </tr>\n",
              "    <tr>\n",
              "      <th>3</th>\n",
              "      <td>2021-07-28</td>\n",
              "      <td>9697.0</td>\n",
              "      <td>-0.12</td>\n",
              "    </tr>\n",
              "    <tr>\n",
              "      <th>4</th>\n",
              "      <td>2021-07-27</td>\n",
              "      <td>9709.0</td>\n",
              "      <td>1.35</td>\n",
              "    </tr>\n",
              "    <tr>\n",
              "      <th>...</th>\n",
              "      <td>...</td>\n",
              "      <td>...</td>\n",
              "      <td>...</td>\n",
              "    </tr>\n",
              "    <tr>\n",
              "      <th>135</th>\n",
              "      <td>2021-01-18</td>\n",
              "      <td>7972.5</td>\n",
              "      <td>-0.09</td>\n",
              "    </tr>\n",
              "    <tr>\n",
              "      <th>136</th>\n",
              "      <td>2021-01-15</td>\n",
              "      <td>7979.5</td>\n",
              "      <td>-0.29</td>\n",
              "    </tr>\n",
              "    <tr>\n",
              "      <th>137</th>\n",
              "      <td>2021-01-14</td>\n",
              "      <td>8002.5</td>\n",
              "      <td>0.53</td>\n",
              "    </tr>\n",
              "    <tr>\n",
              "      <th>138</th>\n",
              "      <td>2021-01-13</td>\n",
              "      <td>7960.5</td>\n",
              "      <td>-0.28</td>\n",
              "    </tr>\n",
              "    <tr>\n",
              "      <th>139</th>\n",
              "      <td>2021-01-12</td>\n",
              "      <td>7983.0</td>\n",
              "      <td>0.40</td>\n",
              "    </tr>\n",
              "  </tbody>\n",
              "</table>\n",
              "<p>140 rows × 3 columns</p>\n",
              "</div>"
            ],
            "text/plain": [
              "             날짜     체결가   등락률\n",
              "0    2021-08-02  9737.0 -0.11\n",
              "1    2021-07-30  9747.5 -0.34\n",
              "2    2021-07-29  9781.0  0.87\n",
              "3    2021-07-28  9697.0 -0.12\n",
              "4    2021-07-27  9709.0  1.35\n",
              "..          ...     ...   ...\n",
              "135  2021-01-18  7972.5 -0.09\n",
              "136  2021-01-15  7979.5 -0.29\n",
              "137  2021-01-14  8002.5  0.53\n",
              "138  2021-01-13  7960.5 -0.28\n",
              "139  2021-01-12  7983.0  0.40\n",
              "\n",
              "[140 rows x 3 columns]"
            ]
          },
          "execution_count": 29,
          "metadata": {},
          "output_type": "execute_result"
        }
      ]
    },
    {
      "cell_type": "markdown",
      "metadata": {
        "id": "96cc2bdb"
      },
      "source": [
        "## 달러 인덱스 (주요국 달러 환율)\n",
        "- 달러 인덱스 = 50.14348112 * EURUSD^-0.576 * USDJPY^-0.136 * GBPUSD^-0.119 * USDCAD^-0.091 * USDSEK^-0.042 * USDCHF^-0.036\n",
        "- 원자재의 가격과 가격 변동률을 크롤링 하는 방법 차용"
      ],
      "id": "96cc2bdb"
    },
    {
      "cell_type": "markdown",
      "metadata": {
        "id": "2bf7b189"
      },
      "source": [
        "- 유로달러 환율 구하기"
      ],
      "id": "2bf7b189"
    },
    {
      "cell_type": "markdown",
      "metadata": {
        "id": "eb025a05"
      },
      "source": [
        "https://finance.naver.com/marketindex/worldDailyQuote.nhn?fdtc=4&marketindexCd=FX_EURUSD&page=1"
      ],
      "id": "eb025a05"
    },
    {
      "cell_type": "code",
      "metadata": {
        "id": "04af80bd"
      },
      "source": [
        "index_cd = \"FX_EURUSD\"\n",
        "page_n = 1\n",
        "naver_index = f\"https://finance.naver.com/marketindex/worldDailyQuote.nhn?fdtc=4&marketindexCd={index_cd}&page={page_n}\""
      ],
      "id": "04af80bd",
      "execution_count": null,
      "outputs": []
    },
    {
      "cell_type": "code",
      "metadata": {
        "id": "12f0b39a"
      },
      "source": [
        "src = urlopen(naver_index).read()"
      ],
      "id": "12f0b39a",
      "execution_count": null,
      "outputs": []
    },
    {
      "cell_type": "code",
      "metadata": {
        "id": "0f12a5be"
      },
      "source": [
        "source = bs4.BeautifulSoup(src, 'lxml')\n",
        "td= source.find_all('td')"
      ],
      "id": "0f12a5be",
      "execution_count": null,
      "outputs": []
    },
    {
      "cell_type": "code",
      "metadata": {
        "id": "05275c92",
        "outputId": "7b316800-246b-45df-9f5c-760530fbbddb"
      },
      "source": [
        "source.find_all('td', class_=\"date\")"
      ],
      "id": "05275c92",
      "execution_count": null,
      "outputs": [
        {
          "data": {
            "text/plain": [
              "[<td class=\"date\">\n",
              " \t\t\n",
              " \t\t2021.08.02\t\t\t\t\n",
              " \t\t</td>,\n",
              " <td class=\"date\">\n",
              " \t\t\n",
              " \t\t2021.07.31\t\t\t\t\n",
              " \t\t</td>,\n",
              " <td class=\"date\">\n",
              " \t\t\n",
              " \t\t2021.07.30\t\t\t\t\n",
              " \t\t</td>,\n",
              " <td class=\"date\">\n",
              " \t\t\n",
              " \t\t2021.07.29\t\t\t\t\n",
              " \t\t</td>,\n",
              " <td class=\"date\">\n",
              " \t\t\n",
              " \t\t2021.07.28\t\t\t\t\n",
              " \t\t</td>,\n",
              " <td class=\"date\">\n",
              " \t\t\n",
              " \t\t2021.07.27\t\t\t\t\n",
              " \t\t</td>,\n",
              " <td class=\"date\">\n",
              " \t\t\n",
              " \t\t2021.07.26\t\t\t\t\n",
              " \t\t</td>]"
            ]
          },
          "execution_count": 33,
          "metadata": {},
          "output_type": "execute_result"
        }
      ]
    },
    {
      "cell_type": "markdown",
      "metadata": {
        "id": "7872c9ad"
      },
      "source": [
        "### 날짜 크롤링"
      ],
      "id": "7872c9ad"
    },
    {
      "cell_type": "code",
      "metadata": {
        "scrolled": true,
        "id": "afe755cf",
        "outputId": "d1a39809-4126-4b24-d7a3-5d06ea490a4c"
      },
      "source": [
        "source.find_all('td', class_=\"date\")[0].text"
      ],
      "id": "afe755cf",
      "execution_count": null,
      "outputs": [
        {
          "data": {
            "text/plain": [
              "'\\n\\t\\t\\n\\t\\t2021.08.02\\t\\t\\t\\t\\n\\t\\t'"
            ]
          },
          "execution_count": 34,
          "metadata": {},
          "output_type": "execute_result"
        }
      ]
    },
    {
      "cell_type": "code",
      "metadata": {
        "id": "95d8f192",
        "outputId": "5da3edcf-9c15-4af2-d760-acbef63220f2"
      },
      "source": [
        "p = source.find_all('td', class_='date')[0].text.replace('\\n','').replace('\\t','').strip()\n",
        "p"
      ],
      "id": "95d8f192",
      "execution_count": null,
      "outputs": [
        {
          "data": {
            "text/plain": [
              "'2021.08.02'"
            ]
          },
          "execution_count": 35,
          "metadata": {},
          "output_type": "execute_result"
        }
      ]
    },
    {
      "cell_type": "code",
      "metadata": {
        "id": "a83f8b2a",
        "outputId": "963d054d-e976-4017-83b7-e703b33b3f75"
      },
      "source": [
        "type(p)"
      ],
      "id": "a83f8b2a",
      "execution_count": null,
      "outputs": [
        {
          "data": {
            "text/plain": [
              "str"
            ]
          },
          "execution_count": 36,
          "metadata": {},
          "output_type": "execute_result"
        }
      ]
    },
    {
      "cell_type": "markdown",
      "metadata": {
        "id": "b90302c1"
      },
      "source": [
        "### 종가 크롤링"
      ],
      "id": "b90302c1"
    },
    {
      "cell_type": "code",
      "metadata": {
        "id": "1c64cdf2",
        "outputId": "ca9c889e-6a17-4815-a3cd-c85dd19b9427"
      },
      "source": [
        "source.find_all('td', class_=\"num\")[0].text"
      ],
      "id": "1c64cdf2",
      "execution_count": null,
      "outputs": [
        {
          "data": {
            "text/plain": [
              "'\\n\\t\\t\\t\\n\\t\\t\\t\\t1.1880\\n\\t\\t\\t\\t\\n\\t\\t\\t\\n\\t\\t'"
            ]
          },
          "execution_count": 37,
          "metadata": {},
          "output_type": "execute_result"
        }
      ]
    },
    {
      "cell_type": "code",
      "metadata": {
        "id": "66b81270",
        "outputId": "bf9af3f1-b05b-45b3-80da-d659c27387b1"
      },
      "source": [
        "source.find_all('td', class_=\"num\")[1].text"
      ],
      "id": "66b81270",
      "execution_count": null,
      "outputs": [
        {
          "data": {
            "text/plain": [
              "'\\n 0.0011\\n\\t\\t\\t\\t\\n\\t\\t\\t\\n\\t\\t'"
            ]
          },
          "execution_count": 38,
          "metadata": {},
          "output_type": "execute_result"
        }
      ]
    },
    {
      "cell_type": "code",
      "metadata": {
        "id": "794ee093",
        "outputId": "0a475bb0-c5cb-4d76-b7d5-f5972bdd48f4"
      },
      "source": [
        "source.find_all('td', class_=\"num\")[2].text"
      ],
      "id": "794ee093",
      "execution_count": null,
      "outputs": [
        {
          "data": {
            "text/plain": [
              "'\\n\\t\\t +0.09%\\n\\t\\t'"
            ]
          },
          "execution_count": 39,
          "metadata": {},
          "output_type": "execute_result"
        }
      ]
    },
    {
      "cell_type": "code",
      "metadata": {
        "id": "085ce85e",
        "outputId": "cff99cb4-8cfd-43c1-c125-34a62e74bb86"
      },
      "source": [
        "source.find_all('td', class_=\"num\")[3].text"
      ],
      "id": "085ce85e",
      "execution_count": null,
      "outputs": [
        {
          "data": {
            "text/plain": [
              "'\\n\\t\\t\\t\\n\\t\\t\\t\\t1.1869\\n\\t\\t\\t\\t\\n\\t\\t\\t\\n\\t\\t'"
            ]
          },
          "execution_count": 40,
          "metadata": {},
          "output_type": "execute_result"
        }
      ]
    },
    {
      "cell_type": "markdown",
      "metadata": {
        "id": "9326b9a1"
      },
      "source": [
        "0, 3, 6, 9, ... 순서로 종가가 크롤링 됩니다."
      ],
      "id": "9326b9a1"
    },
    {
      "cell_type": "markdown",
      "metadata": {
        "id": "09a03586"
      },
      "source": [
        "### 등락률 크롤링"
      ],
      "id": "09a03586"
    },
    {
      "cell_type": "code",
      "metadata": {
        "id": "0df145f8",
        "outputId": "091e98b5-68ab-46ad-dcc5-1d18236675b2"
      },
      "source": [
        "source.find_all('td', class_=\"num\")[2]"
      ],
      "id": "0df145f8",
      "execution_count": null,
      "outputs": [
        {
          "data": {
            "text/plain": [
              "<td class=\"num\">\n",
              "\t\t +0.09%\n",
              "\t\t</td>"
            ]
          },
          "execution_count": 41,
          "metadata": {},
          "output_type": "execute_result"
        }
      ]
    },
    {
      "cell_type": "code",
      "metadata": {
        "id": "e5399b68",
        "outputId": "92fec115-40fb-44a4-df9a-bc055a28be5e"
      },
      "source": [
        "source.find_all('td', class_=\"num\")[2].text"
      ],
      "id": "e5399b68",
      "execution_count": null,
      "outputs": [
        {
          "data": {
            "text/plain": [
              "'\\n\\t\\t +0.09%\\n\\t\\t'"
            ]
          },
          "execution_count": 42,
          "metadata": {},
          "output_type": "execute_result"
        }
      ]
    },
    {
      "cell_type": "code",
      "metadata": {
        "id": "5577ebc0"
      },
      "source": [
        "dates = source.find_all('td', class_=\"date\")\n",
        "prices = source.find_all('td', class_=\"num\")"
      ],
      "id": "5577ebc0",
      "execution_count": null,
      "outputs": []
    },
    {
      "cell_type": "markdown",
      "metadata": {
        "id": "202b7f67"
      },
      "source": [
        "## 해당 페이지 데이터 크롤링 방법"
      ],
      "id": "202b7f67"
    },
    {
      "cell_type": "code",
      "metadata": {
        "id": "40719b3c",
        "outputId": "8d0e3910-a2b2-4fd2-a4a6-11e6c741a21f"
      },
      "source": [
        "for i in range(len(dates)):\n",
        "    this_date = dates[i].text.replace('\\n', '').replace('\\t', '').strip()\n",
        "    this_date = date_format(this_date)  \n",
        "    this_close = prices[i*3].text.replace(',','')\n",
        "    this_close = float(this_close)\n",
        "    this_ratio = prices[i*3+2].text.replace('\\n','').replace('\\t','').replace('%','')\n",
        "    this_ratio = float(this_ratio)\n",
        "    print(this_date, this_close, this_ratio)"
      ],
      "id": "40719b3c",
      "execution_count": null,
      "outputs": [
        {
          "name": "stdout",
          "output_type": "stream",
          "text": [
            "2021-08-02 1.188 0.09\n",
            "2021-07-31 1.1869 0.1\n",
            "2021-07-30 1.1857 -0.21\n",
            "2021-07-29 1.1883 0.72\n",
            "2021-07-28 1.1798 -0.23\n",
            "2021-07-27 1.1826 0.15\n",
            "2021-07-26 1.1808 0.31\n"
          ]
        }
      ]
    },
    {
      "cell_type": "markdown",
      "metadata": {
        "id": "5eae617d"
      },
      "source": [
        "### 100페이지에 있는 데이터 크롤링 하기"
      ],
      "id": "5eae617d"
    },
    {
      "cell_type": "code",
      "metadata": {
        "id": "827c954f",
        "outputId": "a41713c1-95cb-4b3c-87c0-b71b9771a05a"
      },
      "source": [
        "index_cd = \"FX_EURUSD\"\n",
        "page_n = 100\n",
        "naver_index = f\"https://finance.naver.com/marketindex/worldDailyQuote.nhn?fdtc=4&marketindexCd={index_cd}&page={page_n}\"\n",
        "src = urlopen(naver_index).read()\n",
        "source = bs4.BeautifulSoup(src, 'lxml')\n",
        "dates = source.find_all('td', class_=\"date\")\n",
        "prices = source.find_all('td', class_=\"num\")\n",
        "for i in range(len(dates)):\n",
        "    this_date = dates[i].text\n",
        "    this_date = date_format(this_date)   \n",
        "    this_close = prices[i*3].text.replace(',','')\n",
        "    this_close = float(this_close)\n",
        "    print(this_date, this_close)"
      ],
      "id": "827c954f",
      "execution_count": null,
      "outputs": [
        {
          "name": "stdout",
          "output_type": "stream",
          "text": [
            "2019-05-16 1.1176\n",
            "2019-05-15 1.1209\n",
            "2019-05-14 1.1211\n",
            "2019-05-13 1.1242\n",
            "2019-05-11 1.1235\n",
            "2019-05-10 1.1245\n",
            "2019-05-09 1.123\n"
          ]
        }
      ]
    },
    {
      "cell_type": "code",
      "metadata": {
        "id": "231a0bfe",
        "outputId": "77835c76-e326-4bd3-d7d0-2a142f4acb7a"
      },
      "source": [
        "def crawl_dollar_index(index_cd, end_page):\n",
        "    date_list = []\n",
        "    price_list = []\n",
        "    ratio_list = []\n",
        "    for page_n in range(1, end_page+1):\n",
        "        naver_index = f\"https://finance.naver.com/marketindex/worldDailyQuote.nhn?fdtc=4&marketindexCd={index_cd}&page={page_n}\"\n",
        "        src = urlopen(naver_index).read()\n",
        "        source = bs4.BeautifulSoup(src, 'lxml')\n",
        "        td = source.find_all('td')\n",
        "        dates = source.find_all('td', class_='date')\n",
        "        prices = source.find_all('td', class_='num')\n",
        "        for i in range(len(dates)):\n",
        "            this_date = dates[i].text.replace('\\n', '').replace('\\t', '').strip()\n",
        "            this_date =date_format(this_date)\n",
        "            this_close = prices[i*3].text.replace('\\n','').replace('\\t','').replace(',','')\n",
        "            this_close = float(this_close)\n",
        "            this_ratio = prices[i*3+2].text.replace('\\n','').replace('\\t','').replace('%','')\n",
        "            this_ratio = float(this_ratio)\n",
        "            date_list.append(this_date)\n",
        "            price_list.append(this_close)\n",
        "            ratio_list.append(this_ratio)\n",
        "    df = pd.DataFrame({'날짜' : date_list, \"체결가\" : price_list, \"등락률\" : ratio_list})\n",
        "    return df\n",
        "crawl_dollar_index('FX_EURUSD', 100)"
      ],
      "id": "231a0bfe",
      "execution_count": null,
      "outputs": [
        {
          "data": {
            "text/html": [
              "<div>\n",
              "<style scoped>\n",
              "    .dataframe tbody tr th:only-of-type {\n",
              "        vertical-align: middle;\n",
              "    }\n",
              "\n",
              "    .dataframe tbody tr th {\n",
              "        vertical-align: top;\n",
              "    }\n",
              "\n",
              "    .dataframe thead th {\n",
              "        text-align: right;\n",
              "    }\n",
              "</style>\n",
              "<table border=\"1\" class=\"dataframe\">\n",
              "  <thead>\n",
              "    <tr style=\"text-align: right;\">\n",
              "      <th></th>\n",
              "      <th>날짜</th>\n",
              "      <th>체결가</th>\n",
              "      <th>등락률</th>\n",
              "    </tr>\n",
              "  </thead>\n",
              "  <tbody>\n",
              "    <tr>\n",
              "      <th>0</th>\n",
              "      <td>2021-08-02</td>\n",
              "      <td>1.1880</td>\n",
              "      <td>0.09</td>\n",
              "    </tr>\n",
              "    <tr>\n",
              "      <th>1</th>\n",
              "      <td>2021-07-31</td>\n",
              "      <td>1.1869</td>\n",
              "      <td>0.10</td>\n",
              "    </tr>\n",
              "    <tr>\n",
              "      <th>2</th>\n",
              "      <td>2021-07-30</td>\n",
              "      <td>1.1857</td>\n",
              "      <td>-0.21</td>\n",
              "    </tr>\n",
              "    <tr>\n",
              "      <th>3</th>\n",
              "      <td>2021-07-29</td>\n",
              "      <td>1.1883</td>\n",
              "      <td>0.72</td>\n",
              "    </tr>\n",
              "    <tr>\n",
              "      <th>4</th>\n",
              "      <td>2021-07-28</td>\n",
              "      <td>1.1798</td>\n",
              "      <td>-0.23</td>\n",
              "    </tr>\n",
              "    <tr>\n",
              "      <th>...</th>\n",
              "      <td>...</td>\n",
              "      <td>...</td>\n",
              "      <td>...</td>\n",
              "    </tr>\n",
              "    <tr>\n",
              "      <th>695</th>\n",
              "      <td>2019-05-14</td>\n",
              "      <td>1.1211</td>\n",
              "      <td>-0.27</td>\n",
              "    </tr>\n",
              "    <tr>\n",
              "      <th>696</th>\n",
              "      <td>2019-05-13</td>\n",
              "      <td>1.1242</td>\n",
              "      <td>0.06</td>\n",
              "    </tr>\n",
              "    <tr>\n",
              "      <th>697</th>\n",
              "      <td>2019-05-11</td>\n",
              "      <td>1.1235</td>\n",
              "      <td>-0.08</td>\n",
              "    </tr>\n",
              "    <tr>\n",
              "      <th>698</th>\n",
              "      <td>2019-05-10</td>\n",
              "      <td>1.1245</td>\n",
              "      <td>0.13</td>\n",
              "    </tr>\n",
              "    <tr>\n",
              "      <th>699</th>\n",
              "      <td>2019-05-09</td>\n",
              "      <td>1.1230</td>\n",
              "      <td>0.29</td>\n",
              "    </tr>\n",
              "  </tbody>\n",
              "</table>\n",
              "<p>700 rows × 3 columns</p>\n",
              "</div>"
            ],
            "text/plain": [
              "             날짜     체결가   등락률\n",
              "0    2021-08-02  1.1880  0.09\n",
              "1    2021-07-31  1.1869  0.10\n",
              "2    2021-07-30  1.1857 -0.21\n",
              "3    2021-07-29  1.1883  0.72\n",
              "4    2021-07-28  1.1798 -0.23\n",
              "..          ...     ...   ...\n",
              "695  2019-05-14  1.1211 -0.27\n",
              "696  2019-05-13  1.1242  0.06\n",
              "697  2019-05-11  1.1235 -0.08\n",
              "698  2019-05-10  1.1245  0.13\n",
              "699  2019-05-09  1.1230  0.29\n",
              "\n",
              "[700 rows x 3 columns]"
            ]
          },
          "execution_count": 46,
          "metadata": {},
          "output_type": "execute_result"
        }
      ]
    },
    {
      "cell_type": "markdown",
      "metadata": {
        "id": "7f0e884b"
      },
      "source": [
        "### EURUSD 달러 환율 데이터"
      ],
      "id": "7f0e884b"
    },
    {
      "cell_type": "code",
      "metadata": {
        "id": "a050e7bb",
        "outputId": "25da4f3f-1f6b-4e47-a031-f064f87140a1"
      },
      "source": [
        "crawl_dollar_index('FX_EURUSD', 100)"
      ],
      "id": "a050e7bb",
      "execution_count": null,
      "outputs": [
        {
          "data": {
            "text/html": [
              "<div>\n",
              "<style scoped>\n",
              "    .dataframe tbody tr th:only-of-type {\n",
              "        vertical-align: middle;\n",
              "    }\n",
              "\n",
              "    .dataframe tbody tr th {\n",
              "        vertical-align: top;\n",
              "    }\n",
              "\n",
              "    .dataframe thead th {\n",
              "        text-align: right;\n",
              "    }\n",
              "</style>\n",
              "<table border=\"1\" class=\"dataframe\">\n",
              "  <thead>\n",
              "    <tr style=\"text-align: right;\">\n",
              "      <th></th>\n",
              "      <th>날짜</th>\n",
              "      <th>체결가</th>\n",
              "      <th>등락률</th>\n",
              "    </tr>\n",
              "  </thead>\n",
              "  <tbody>\n",
              "    <tr>\n",
              "      <th>0</th>\n",
              "      <td>2021-08-02</td>\n",
              "      <td>1.1880</td>\n",
              "      <td>0.09</td>\n",
              "    </tr>\n",
              "    <tr>\n",
              "      <th>1</th>\n",
              "      <td>2021-07-31</td>\n",
              "      <td>1.1869</td>\n",
              "      <td>0.10</td>\n",
              "    </tr>\n",
              "    <tr>\n",
              "      <th>2</th>\n",
              "      <td>2021-07-30</td>\n",
              "      <td>1.1857</td>\n",
              "      <td>-0.21</td>\n",
              "    </tr>\n",
              "    <tr>\n",
              "      <th>3</th>\n",
              "      <td>2021-07-29</td>\n",
              "      <td>1.1883</td>\n",
              "      <td>0.72</td>\n",
              "    </tr>\n",
              "    <tr>\n",
              "      <th>4</th>\n",
              "      <td>2021-07-28</td>\n",
              "      <td>1.1798</td>\n",
              "      <td>-0.23</td>\n",
              "    </tr>\n",
              "    <tr>\n",
              "      <th>...</th>\n",
              "      <td>...</td>\n",
              "      <td>...</td>\n",
              "      <td>...</td>\n",
              "    </tr>\n",
              "    <tr>\n",
              "      <th>695</th>\n",
              "      <td>2019-05-14</td>\n",
              "      <td>1.1211</td>\n",
              "      <td>-0.27</td>\n",
              "    </tr>\n",
              "    <tr>\n",
              "      <th>696</th>\n",
              "      <td>2019-05-13</td>\n",
              "      <td>1.1242</td>\n",
              "      <td>0.06</td>\n",
              "    </tr>\n",
              "    <tr>\n",
              "      <th>697</th>\n",
              "      <td>2019-05-11</td>\n",
              "      <td>1.1235</td>\n",
              "      <td>-0.08</td>\n",
              "    </tr>\n",
              "    <tr>\n",
              "      <th>698</th>\n",
              "      <td>2019-05-10</td>\n",
              "      <td>1.1245</td>\n",
              "      <td>0.13</td>\n",
              "    </tr>\n",
              "    <tr>\n",
              "      <th>699</th>\n",
              "      <td>2019-05-09</td>\n",
              "      <td>1.1230</td>\n",
              "      <td>0.29</td>\n",
              "    </tr>\n",
              "  </tbody>\n",
              "</table>\n",
              "<p>700 rows × 3 columns</p>\n",
              "</div>"
            ],
            "text/plain": [
              "             날짜     체결가   등락률\n",
              "0    2021-08-02  1.1880  0.09\n",
              "1    2021-07-31  1.1869  0.10\n",
              "2    2021-07-30  1.1857 -0.21\n",
              "3    2021-07-29  1.1883  0.72\n",
              "4    2021-07-28  1.1798 -0.23\n",
              "..          ...     ...   ...\n",
              "695  2019-05-14  1.1211 -0.27\n",
              "696  2019-05-13  1.1242  0.06\n",
              "697  2019-05-11  1.1235 -0.08\n",
              "698  2019-05-10  1.1245  0.13\n",
              "699  2019-05-09  1.1230  0.29\n",
              "\n",
              "[700 rows x 3 columns]"
            ]
          },
          "execution_count": 47,
          "metadata": {},
          "output_type": "execute_result"
        }
      ]
    },
    {
      "cell_type": "markdown",
      "metadata": {
        "id": "1dba5742"
      },
      "source": [
        "### JPYUSD 환율 데이터"
      ],
      "id": "1dba5742"
    },
    {
      "cell_type": "code",
      "metadata": {
        "id": "35009295",
        "outputId": "4be5d82a-94e0-436e-c588-86e53778b2a6"
      },
      "source": [
        "crawl_dollar_index('FX_USDJPY', 100)"
      ],
      "id": "35009295",
      "execution_count": null,
      "outputs": [
        {
          "data": {
            "text/html": [
              "<div>\n",
              "<style scoped>\n",
              "    .dataframe tbody tr th:only-of-type {\n",
              "        vertical-align: middle;\n",
              "    }\n",
              "\n",
              "    .dataframe tbody tr th {\n",
              "        vertical-align: top;\n",
              "    }\n",
              "\n",
              "    .dataframe thead th {\n",
              "        text-align: right;\n",
              "    }\n",
              "</style>\n",
              "<table border=\"1\" class=\"dataframe\">\n",
              "  <thead>\n",
              "    <tr style=\"text-align: right;\">\n",
              "      <th></th>\n",
              "      <th>날짜</th>\n",
              "      <th>체결가</th>\n",
              "      <th>등락률</th>\n",
              "    </tr>\n",
              "  </thead>\n",
              "  <tbody>\n",
              "    <tr>\n",
              "      <th>0</th>\n",
              "      <td>2021-08-02</td>\n",
              "      <td>109.25</td>\n",
              "      <td>-0.39</td>\n",
              "    </tr>\n",
              "    <tr>\n",
              "      <th>1</th>\n",
              "      <td>2021-07-31</td>\n",
              "      <td>109.68</td>\n",
              "      <td>-0.06</td>\n",
              "    </tr>\n",
              "    <tr>\n",
              "      <th>2</th>\n",
              "      <td>2021-07-30</td>\n",
              "      <td>109.75</td>\n",
              "      <td>0.12</td>\n",
              "    </tr>\n",
              "    <tr>\n",
              "      <th>3</th>\n",
              "      <td>2021-07-29</td>\n",
              "      <td>109.61</td>\n",
              "      <td>-0.43</td>\n",
              "    </tr>\n",
              "    <tr>\n",
              "      <th>4</th>\n",
              "      <td>2021-07-28</td>\n",
              "      <td>110.09</td>\n",
              "      <td>0.24</td>\n",
              "    </tr>\n",
              "    <tr>\n",
              "      <th>...</th>\n",
              "      <td>...</td>\n",
              "      <td>...</td>\n",
              "      <td>...</td>\n",
              "    </tr>\n",
              "    <tr>\n",
              "      <th>695</th>\n",
              "      <td>2019-05-14</td>\n",
              "      <td>109.57</td>\n",
              "      <td>0.41</td>\n",
              "    </tr>\n",
              "    <tr>\n",
              "      <th>696</th>\n",
              "      <td>2019-05-13</td>\n",
              "      <td>109.12</td>\n",
              "      <td>-0.74</td>\n",
              "    </tr>\n",
              "    <tr>\n",
              "      <th>697</th>\n",
              "      <td>2019-05-11</td>\n",
              "      <td>109.94</td>\n",
              "      <td>0.31</td>\n",
              "    </tr>\n",
              "    <tr>\n",
              "      <th>698</th>\n",
              "      <td>2019-05-10</td>\n",
              "      <td>109.59</td>\n",
              "      <td>0.03</td>\n",
              "    </tr>\n",
              "    <tr>\n",
              "      <th>699</th>\n",
              "      <td>2019-05-09</td>\n",
              "      <td>109.55</td>\n",
              "      <td>-0.49</td>\n",
              "    </tr>\n",
              "  </tbody>\n",
              "</table>\n",
              "<p>700 rows × 3 columns</p>\n",
              "</div>"
            ],
            "text/plain": [
              "             날짜     체결가   등락률\n",
              "0    2021-08-02  109.25 -0.39\n",
              "1    2021-07-31  109.68 -0.06\n",
              "2    2021-07-30  109.75  0.12\n",
              "3    2021-07-29  109.61 -0.43\n",
              "4    2021-07-28  110.09  0.24\n",
              "..          ...     ...   ...\n",
              "695  2019-05-14  109.57  0.41\n",
              "696  2019-05-13  109.12 -0.74\n",
              "697  2019-05-11  109.94  0.31\n",
              "698  2019-05-10  109.59  0.03\n",
              "699  2019-05-09  109.55 -0.49\n",
              "\n",
              "[700 rows x 3 columns]"
            ]
          },
          "execution_count": 48,
          "metadata": {},
          "output_type": "execute_result"
        }
      ]
    },
    {
      "cell_type": "markdown",
      "metadata": {
        "id": "12ae3f6b"
      },
      "source": [
        "### GBPUSD 환율 데이터"
      ],
      "id": "12ae3f6b"
    },
    {
      "cell_type": "code",
      "metadata": {
        "scrolled": true,
        "id": "13398336",
        "outputId": "2ba7527f-809a-4389-93b0-a35acc2e25c7"
      },
      "source": [
        "crawl_dollar_index('FX_GBPUSD', 100)"
      ],
      "id": "13398336",
      "execution_count": null,
      "outputs": [
        {
          "data": {
            "text/html": [
              "<div>\n",
              "<style scoped>\n",
              "    .dataframe tbody tr th:only-of-type {\n",
              "        vertical-align: middle;\n",
              "    }\n",
              "\n",
              "    .dataframe tbody tr th {\n",
              "        vertical-align: top;\n",
              "    }\n",
              "\n",
              "    .dataframe thead th {\n",
              "        text-align: right;\n",
              "    }\n",
              "</style>\n",
              "<table border=\"1\" class=\"dataframe\">\n",
              "  <thead>\n",
              "    <tr style=\"text-align: right;\">\n",
              "      <th></th>\n",
              "      <th>날짜</th>\n",
              "      <th>체결가</th>\n",
              "      <th>등락률</th>\n",
              "    </tr>\n",
              "  </thead>\n",
              "  <tbody>\n",
              "    <tr>\n",
              "      <th>0</th>\n",
              "      <td>2021-08-02</td>\n",
              "      <td>1.3896</td>\n",
              "      <td>-0.05</td>\n",
              "    </tr>\n",
              "    <tr>\n",
              "      <th>1</th>\n",
              "      <td>2021-07-31</td>\n",
              "      <td>1.3903</td>\n",
              "      <td>-0.01</td>\n",
              "    </tr>\n",
              "    <tr>\n",
              "      <th>2</th>\n",
              "      <td>2021-07-30</td>\n",
              "      <td>1.3905</td>\n",
              "      <td>-0.49</td>\n",
              "    </tr>\n",
              "    <tr>\n",
              "      <th>3</th>\n",
              "      <td>2021-07-29</td>\n",
              "      <td>1.3974</td>\n",
              "      <td>0.74</td>\n",
              "    </tr>\n",
              "    <tr>\n",
              "      <th>4</th>\n",
              "      <td>2021-07-28</td>\n",
              "      <td>1.3871</td>\n",
              "      <td>-0.08</td>\n",
              "    </tr>\n",
              "    <tr>\n",
              "      <th>...</th>\n",
              "      <td>...</td>\n",
              "      <td>...</td>\n",
              "      <td>...</td>\n",
              "    </tr>\n",
              "    <tr>\n",
              "      <th>695</th>\n",
              "      <td>2019-05-14</td>\n",
              "      <td>1.2918</td>\n",
              "      <td>-0.53</td>\n",
              "    </tr>\n",
              "    <tr>\n",
              "      <th>696</th>\n",
              "      <td>2019-05-13</td>\n",
              "      <td>1.2987</td>\n",
              "      <td>-0.06</td>\n",
              "    </tr>\n",
              "    <tr>\n",
              "      <th>697</th>\n",
              "      <td>2019-05-11</td>\n",
              "      <td>1.2996</td>\n",
              "      <td>-0.26</td>\n",
              "    </tr>\n",
              "    <tr>\n",
              "      <th>698</th>\n",
              "      <td>2019-05-10</td>\n",
              "      <td>1.3031</td>\n",
              "      <td>0.09</td>\n",
              "    </tr>\n",
              "    <tr>\n",
              "      <th>699</th>\n",
              "      <td>2019-05-09</td>\n",
              "      <td>1.3018</td>\n",
              "      <td>0.16</td>\n",
              "    </tr>\n",
              "  </tbody>\n",
              "</table>\n",
              "<p>700 rows × 3 columns</p>\n",
              "</div>"
            ],
            "text/plain": [
              "             날짜     체결가   등락률\n",
              "0    2021-08-02  1.3896 -0.05\n",
              "1    2021-07-31  1.3903 -0.01\n",
              "2    2021-07-30  1.3905 -0.49\n",
              "3    2021-07-29  1.3974  0.74\n",
              "4    2021-07-28  1.3871 -0.08\n",
              "..          ...     ...   ...\n",
              "695  2019-05-14  1.2918 -0.53\n",
              "696  2019-05-13  1.2987 -0.06\n",
              "697  2019-05-11  1.2996 -0.26\n",
              "698  2019-05-10  1.3031  0.09\n",
              "699  2019-05-09  1.3018  0.16\n",
              "\n",
              "[700 rows x 3 columns]"
            ]
          },
          "execution_count": 49,
          "metadata": {},
          "output_type": "execute_result"
        }
      ]
    },
    {
      "cell_type": "markdown",
      "metadata": {
        "id": "81232450"
      },
      "source": [
        "### USDCAD 환율 데이터"
      ],
      "id": "81232450"
    },
    {
      "cell_type": "code",
      "metadata": {
        "id": "c6eaecee",
        "outputId": "d3570c3f-3289-4748-ac46-e0b543453b27"
      },
      "source": [
        "crawl_dollar_index('FX_USDCAD', 100)"
      ],
      "id": "c6eaecee",
      "execution_count": null,
      "outputs": [
        {
          "data": {
            "text/html": [
              "<div>\n",
              "<style scoped>\n",
              "    .dataframe tbody tr th:only-of-type {\n",
              "        vertical-align: middle;\n",
              "    }\n",
              "\n",
              "    .dataframe tbody tr th {\n",
              "        vertical-align: top;\n",
              "    }\n",
              "\n",
              "    .dataframe thead th {\n",
              "        text-align: right;\n",
              "    }\n",
              "</style>\n",
              "<table border=\"1\" class=\"dataframe\">\n",
              "  <thead>\n",
              "    <tr style=\"text-align: right;\">\n",
              "      <th></th>\n",
              "      <th>날짜</th>\n",
              "      <th>체결가</th>\n",
              "      <th>등락률</th>\n",
              "    </tr>\n",
              "  </thead>\n",
              "  <tbody>\n",
              "    <tr>\n",
              "      <th>0</th>\n",
              "      <td>2021-08-02</td>\n",
              "      <td>1.2489</td>\n",
              "      <td>0.09</td>\n",
              "    </tr>\n",
              "    <tr>\n",
              "      <th>1</th>\n",
              "      <td>2021-07-31</td>\n",
              "      <td>1.2477</td>\n",
              "      <td>-0.04</td>\n",
              "    </tr>\n",
              "    <tr>\n",
              "      <th>2</th>\n",
              "      <td>2021-07-30</td>\n",
              "      <td>1.2482</td>\n",
              "      <td>0.29</td>\n",
              "    </tr>\n",
              "    <tr>\n",
              "      <th>3</th>\n",
              "      <td>2021-07-29</td>\n",
              "      <td>1.2445</td>\n",
              "      <td>-1.06</td>\n",
              "    </tr>\n",
              "    <tr>\n",
              "      <th>4</th>\n",
              "      <td>2021-07-28</td>\n",
              "      <td>1.2579</td>\n",
              "      <td>0.11</td>\n",
              "    </tr>\n",
              "    <tr>\n",
              "      <th>...</th>\n",
              "      <td>...</td>\n",
              "      <td>...</td>\n",
              "      <td>...</td>\n",
              "    </tr>\n",
              "    <tr>\n",
              "      <th>695</th>\n",
              "      <td>2019-05-14</td>\n",
              "      <td>1.3467</td>\n",
              "      <td>0.17</td>\n",
              "    </tr>\n",
              "    <tr>\n",
              "      <th>696</th>\n",
              "      <td>2019-05-13</td>\n",
              "      <td>1.3443</td>\n",
              "      <td>0.16</td>\n",
              "    </tr>\n",
              "    <tr>\n",
              "      <th>697</th>\n",
              "      <td>2019-05-11</td>\n",
              "      <td>1.3421</td>\n",
              "      <td>-0.08</td>\n",
              "    </tr>\n",
              "    <tr>\n",
              "      <th>698</th>\n",
              "      <td>2019-05-10</td>\n",
              "      <td>1.3433</td>\n",
              "      <td>-0.39</td>\n",
              "    </tr>\n",
              "    <tr>\n",
              "      <th>699</th>\n",
              "      <td>2019-05-09</td>\n",
              "      <td>1.3486</td>\n",
              "      <td>0.11</td>\n",
              "    </tr>\n",
              "  </tbody>\n",
              "</table>\n",
              "<p>700 rows × 3 columns</p>\n",
              "</div>"
            ],
            "text/plain": [
              "             날짜     체결가   등락률\n",
              "0    2021-08-02  1.2489  0.09\n",
              "1    2021-07-31  1.2477 -0.04\n",
              "2    2021-07-30  1.2482  0.29\n",
              "3    2021-07-29  1.2445 -1.06\n",
              "4    2021-07-28  1.2579  0.11\n",
              "..          ...     ...   ...\n",
              "695  2019-05-14  1.3467  0.17\n",
              "696  2019-05-13  1.3443  0.16\n",
              "697  2019-05-11  1.3421 -0.08\n",
              "698  2019-05-10  1.3433 -0.39\n",
              "699  2019-05-09  1.3486  0.11\n",
              "\n",
              "[700 rows x 3 columns]"
            ]
          },
          "execution_count": 204,
          "metadata": {},
          "output_type": "execute_result"
        }
      ]
    },
    {
      "cell_type": "markdown",
      "metadata": {
        "id": "783849c4"
      },
      "source": [
        "### USDSEK 환율 데이터"
      ],
      "id": "783849c4"
    },
    {
      "cell_type": "code",
      "metadata": {
        "id": "c426dd93"
      },
      "source": [
        "crawl_dollar_index('FX_USDSEK', 100)"
      ],
      "id": "c426dd93",
      "execution_count": null,
      "outputs": []
    },
    {
      "cell_type": "markdown",
      "metadata": {
        "id": "9b1c8850"
      },
      "source": [
        "### USDCHF 환율 데이터"
      ],
      "id": "9b1c8850"
    },
    {
      "cell_type": "code",
      "metadata": {
        "id": "0be82e11"
      },
      "source": [
        "crawl_dollar_index('FX_USDCHF', 100)"
      ],
      "id": "0be82e11",
      "execution_count": null,
      "outputs": []
    },
    {
      "cell_type": "markdown",
      "metadata": {
        "id": "ca7bcc35"
      },
      "source": [
        "## 국제 금이 내가 가진 주식의 헷징 수단이 될 수 있는가"
      ],
      "id": "ca7bcc35"
    },
    {
      "cell_type": "markdown",
      "metadata": {
        "id": "6ab29c2d"
      },
      "source": [
        "- 내가 가진 주식들 크롤링하기( 네이버, 펄어비스)"
      ],
      "id": "6ab29c2d"
    },
    {
      "cell_type": "code",
      "metadata": {
        "id": "e53a8adb"
      },
      "source": [
        "url_stock = \"https://finance.naver.com/item/sise_day.nhn?code=035420&page=1\"\n",
        "stock_src = urlopen(url_stock).read()\n",
        "bs4.BeautifulSoup(stock_src, 'lxml')"
      ],
      "id": "e53a8adb",
      "execution_count": null,
      "outputs": []
    },
    {
      "cell_type": "code",
      "metadata": {
        "id": "fb4a1ef9"
      },
      "source": [
        "stock_cd = '035420'\n",
        "page_n = 1\n",
        "\n",
        "url_stock = f\"https://finance.naver.com/item/sise_day.nhn?code={stock_cd}&page={page_n}\"\n",
        "headers = {\n",
        "    'authority': 'finance.naver.com',\n",
        "    'user-agent' : 'Mozilla/5.0 (Windows NT 10.0; Win64; x64) AppleWebKit/537.36 (KHTML, like Gecko) Chrome/92.0.4515.107 Safari/537.36'\n",
        "}\n",
        "res = requests.get(url_stock, headers=headers)\n",
        "source = res.text\n",
        "src = bs4.BeautifulSoup(source, 'lxml')"
      ],
      "id": "fb4a1ef9",
      "execution_count": null,
      "outputs": []
    },
    {
      "cell_type": "code",
      "metadata": {
        "id": "8cfbb1bb"
      },
      "source": [
        "src = bs4.BeautifulSoup(source, 'lxml')\n",
        "src"
      ],
      "id": "8cfbb1bb",
      "execution_count": null,
      "outputs": []
    },
    {
      "cell_type": "markdown",
      "metadata": {
        "id": "000e6b20"
      },
      "source": [
        "### 날짜 크롤링"
      ],
      "id": "000e6b20"
    },
    {
      "cell_type": "code",
      "metadata": {
        "scrolled": true,
        "id": "d97caaee"
      },
      "source": [
        "src.find_all('table')[0].find_all('tr')[2].find_all('td')[0]\n",
        "\n",
        "## /html/body/table[1]/tbody/tr[3]/td[1]/span"
      ],
      "id": "d97caaee",
      "execution_count": null,
      "outputs": []
    },
    {
      "cell_type": "code",
      "metadata": {
        "id": "cf817e54"
      },
      "source": [
        "src.find_all('td', align='center')[0]"
      ],
      "id": "cf817e54",
      "execution_count": null,
      "outputs": []
    },
    {
      "cell_type": "code",
      "metadata": {
        "id": "647ca29d"
      },
      "source": [
        "a = src.find_all('span', class_='tah p10 gray03')[0].text"
      ],
      "id": "647ca29d",
      "execution_count": null,
      "outputs": []
    },
    {
      "cell_type": "code",
      "metadata": {
        "id": "06d1ad30"
      },
      "source": [
        "date_format(a)"
      ],
      "id": "06d1ad30",
      "execution_count": null,
      "outputs": []
    },
    {
      "cell_type": "markdown",
      "metadata": {
        "id": "6096d700"
      },
      "source": [
        "### 종가 크롤링"
      ],
      "id": "6096d700"
    },
    {
      "cell_type": "code",
      "metadata": {
        "id": "277c519c"
      },
      "source": [
        "src.find_all('td', class_='num')[0]\n",
        "\n",
        "## /html/body/table[1]/tbody/tr[3]/td[2]/span"
      ],
      "id": "277c519c",
      "execution_count": null,
      "outputs": []
    },
    {
      "cell_type": "code",
      "metadata": {
        "id": "8602aebf"
      },
      "source": [
        "src.find_all('td', class_='num')[6]"
      ],
      "id": "8602aebf",
      "execution_count": null,
      "outputs": []
    },
    {
      "cell_type": "code",
      "metadata": {
        "id": "66851fc0"
      },
      "source": [
        "src.find_all('td', class_='num')[12].text\n"
      ],
      "id": "66851fc0",
      "execution_count": null,
      "outputs": []
    },
    {
      "cell_type": "markdown",
      "metadata": {
        "id": "d265847c"
      },
      "source": [
        "0, 6, 12, ... 번째 원소들이 종가"
      ],
      "id": "d265847c"
    },
    {
      "cell_type": "markdown",
      "metadata": {
        "id": "96a41d01"
      },
      "source": [
        "### 해당 페이지 크롤링"
      ],
      "id": "96a41d01"
    },
    {
      "cell_type": "code",
      "metadata": {
        "id": "54e06be0"
      },
      "source": [
        "dates = src.find_all('td', align='center')\n",
        "prices = src.find_all('td', class_='num')\n",
        "len(prices)\n",
        "prices[52]"
      ],
      "id": "54e06be0",
      "execution_count": null,
      "outputs": []
    },
    {
      "cell_type": "code",
      "metadata": {
        "id": "53ca2053"
      },
      "source": [
        "for i in range(len(dates)):\n",
        "    this_time = dates[i].text\n",
        "    this_time = date_format(this_time)\n",
        "    this_close = prices[i*6].text.replace(',','')\n",
        "    this_close = float(this_close)\n",
        "    print(this_time, this_close)"
      ],
      "id": "53ca2053",
      "execution_count": null,
      "outputs": []
    },
    {
      "cell_type": "markdown",
      "metadata": {
        "id": "fca2976d"
      },
      "source": [
        "### 100 페이지에 있는 데이터 크롤링"
      ],
      "id": "fca2976d"
    },
    {
      "cell_type": "code",
      "metadata": {
        "id": "666725c5"
      },
      "source": [
        "stock_cd = \"035420\"\n",
        "page_n = 100\n",
        "url_stock = f\"https://finance.naver.com/item/sise_day.nhn?code={stock_cd}&page={page_n}\"\n",
        "headers = {\n",
        "    'authority': 'finance.naver.com',\n",
        "    'user-agent' : 'Mozilla/5.0 (Windows NT 10.0; Win64; x64) AppleWebKit/537.36 (KHTML, like Gecko) Chrome/92.0.4515.107 Safari/537.36'\n",
        "}\n",
        "res = requests.get(url_stock, headers=headers)\n",
        "source = res.text\n",
        "src = bs4.BeautifulSoup(source, 'lxml')\n",
        "dates = src.find_all('td', align='center')\n",
        "prices = src.find_all('td', class_='num')\n",
        "for i in range(len(dates)):\n",
        "    this_time = dates[i].text\n",
        "    this_time = date_format(this_time)\n",
        "    this_price = prices[i*6].text.replace(',','')\n",
        "    this_price = float(this_price)\n",
        "    print(this_time, this_price)"
      ],
      "id": "666725c5",
      "execution_count": null,
      "outputs": []
    },
    {
      "cell_type": "code",
      "metadata": {
        "id": "c1d4913a"
      },
      "source": [
        "def crawl_stock_price(stock_cd, end_page):\n",
        "    time_list = []\n",
        "    price_list = []\n",
        "    for page_n in range(1, end_page+1):\n",
        "        \n",
        "        url_stock = f\"https://finance.naver.com/item/sise_day.nhn?code={stock_cd}&page={page_n}\"\n",
        "        headers = {\n",
        "        'authority': 'finance.naver.com',\n",
        "        'user-agent' : 'Mozilla/5.0 (Windows NT 10.0; Win64; x64) AppleWebKit/537.36 (KHTML, like Gecko) Chrome/92.0.4515.107 Safari/537.36'\n",
        "        }\n",
        "        res = requests.get(url_stock, headers=headers)\n",
        "        source = res.text\n",
        "        src = bs4.BeautifulSoup(source, 'lxml')\n",
        "        dates = src.find_all('td', align='center')\n",
        "        prices = src.find_all('td', class_='num')\n",
        "        for i in range(len(dates)):\n",
        "            this_time = dates[i].text\n",
        "            this_time = date_format(this_time)\n",
        "            this_price = prices[i*6].text.replace(',','')\n",
        "            this_price = float(this_price)\n",
        "            time_list.append(this_time)\n",
        "            price_list.append(this_price)\n",
        "    df = pd.DataFrame({\"날짜\" : time_list, \"종가\" : price_list})\n",
        "    return df\n"
      ],
      "id": "c1d4913a",
      "execution_count": null,
      "outputs": []
    },
    {
      "cell_type": "code",
      "metadata": {
        "id": "61189e0c"
      },
      "source": [
        "stock_cd = \"263750\"\n",
        "page_n = 50\n",
        "url_stock = f\"https://finance.naver.com/item/sise_day.nhn?code={stock_cd}&page={page_n}\"\n",
        "headers = {\n",
        "'authority': 'finance.naver.com',\n",
        "'user-agent' : 'Mozilla/5.0 (Windows NT 10.0; Win64; x64) AppleWebKit/537.36 (KHTML, like Gecko) Chrome/92.0.4515.107 Safari/537.36'\n",
        "}\n",
        "res = requests.get(url_stock, headers=headers)\n",
        "source = res.text\n",
        "src = bs4.BeautifulSoup(source, 'lxml')\n",
        "dates = src.find_all('td', align='center')\n",
        "prices = src.find_all('td', class_='num')\n",
        "a = src.find_all('td', align = 'center')[1].text\n",
        "type(a)\n",
        "this_time = src.find_all('td', align = 'center')[0].text\n",
        "date_format(this_time)\n",
        "for i in range(len(dates)):\n",
        "    this_time = dates[i].text\n",
        "    this_time = date_format(this_time)\n",
        "    this_close = prices[i*6].text.replace(',','')\n",
        "    this_clsoe = float(this_close)\n",
        "    print(this_time, this_close)"
      ],
      "id": "61189e0c",
      "execution_count": null,
      "outputs": []
    },
    {
      "cell_type": "markdown",
      "metadata": {
        "id": "79da0241"
      },
      "source": [
        "### 펄어비스 주가"
      ],
      "id": "79da0241"
    },
    {
      "cell_type": "code",
      "metadata": {
        "scrolled": true,
        "id": "ca2ab358"
      },
      "source": [
        "crawl_stock_price(\"263750\",95)"
      ],
      "id": "ca2ab358",
      "execution_count": null,
      "outputs": []
    },
    {
      "cell_type": "markdown",
      "metadata": {
        "id": "007ab833"
      },
      "source": [
        "###  네이버 주가"
      ],
      "id": "007ab833"
    },
    {
      "cell_type": "code",
      "metadata": {
        "scrolled": true,
        "id": "9beb66f0"
      },
      "source": [
        "crawl_stock_price('035420', 100)"
      ],
      "id": "9beb66f0",
      "execution_count": null,
      "outputs": []
    },
    {
      "cell_type": "markdown",
      "metadata": {
        "id": "5c31ae45"
      },
      "source": [
        "## 네이버 증권에서 뉴스 크롤링"
      ],
      "id": "5c31ae45"
    },
    {
      "cell_type": "code",
      "metadata": {
        "id": "83212852"
      },
      "source": [
        "stock_cd = '263750'\n",
        "page_n = '1'\n",
        "news_url = f\"https://finance.naver.com/item/news_news.nhn?code={stock_cd}&page={page_n}&sm=title_entity_id.basic&clusterId=\"\n",
        "source = urlopen(news_url).read()"
      ],
      "id": "83212852",
      "execution_count": null,
      "outputs": []
    },
    {
      "cell_type": "code",
      "metadata": {
        "id": "da436645"
      },
      "source": [
        "src = bs4.BeautifulSoup(source, 'lxml')"
      ],
      "id": "da436645",
      "execution_count": null,
      "outputs": []
    },
    {
      "cell_type": "code",
      "metadata": {
        "id": "0e7a27a6",
        "outputId": "acb419e3-9da4-4a6f-a009-097d33a7cbaa"
      },
      "source": [
        "td = src.find_all('td')\n",
        "td"
      ],
      "id": "0e7a27a6",
      "execution_count": null,
      "outputs": [
        {
          "data": {
            "text/plain": [
              "[<td class=\"title\">\n",
              " <a class=\"tit\" href=\"/item/news_read.nhn?article_id=0000750870&amp;office_id=366&amp;code=263750&amp;page=1&amp;sm=title_entity_id.basic\" onclick=\"clickcr(this,'stn.ntitclust','','',event);\" target=\"_top\">펄어비스, 신작 ‘붉은사막’ 출시 연기 소식에 4% 넘게 하락</a>\n",
              " </td>,\n",
              " <td class=\"info\">조선비즈</td>,\n",
              " <td class=\"date\"> 2021.07.30 14:34</td>,\n",
              " <td colspan=\"3\">\n",
              " <table class=\"type5\">\n",
              " <caption>연관기사 목록</caption>\n",
              " <colgroup>\n",
              " <col/>\n",
              " <col width=\"130px\"/>\n",
              " <col width=\"110px\"/>\n",
              " </colgroup>\n",
              " <tbody>\n",
              " <tr>\n",
              " <td class=\"title\">\n",
              " <a class=\"tit\" href=\"/item/news_read.nhn?article_id=0004624278&amp;office_id=008&amp;code=263750&amp;page=1&amp;sm=title_entity_id.basic\" onclick=\"clickcr(this,'stn.ntitclustsub','','',event);\" target=\"_top\"><span class=\"ico_reply\"></span>펄어비스, 기대작 '붉은사막' 출시 연기에 5.48%↓</a>\n",
              " </td>\n",
              " <td class=\"info\">머니투데이</td>\n",
              " <td class=\"date\"> 2021.07.30 10:12</td>\n",
              " </tr>\n",
              " <tr class=\"hide_news none\">\n",
              " <td class=\"title\">\n",
              " <a class=\"tit\" href=\"/item/news_read.nhn?article_id=0004998558&amp;office_id=018&amp;code=263750&amp;page=1&amp;sm=title_entity_id.basic\" onclick=\"clickcr(this,'stn.ntitclustsub','','',event);\" target=\"_top\"><span class=\"ico_reply\"></span>[특징주]펄어비스, '붉은사막' 출시 연기에 4%대↓</a>\n",
              " </td>\n",
              " <td class=\"info\">이데일리</td>\n",
              " <td class=\"date\"> 2021.07.30 09:20</td>\n",
              " </tr>\n",
              " </tbody>\n",
              " </table>\n",
              " <div class=\"link_area\">\n",
              " <a class=\"_moreBtn\" data-count=\"1\" href=\"#\" onclick=\"toggleList(this); return false;\">관련뉴스 <em>1</em>건 더보기<span class=\"ico_down\"></span></a>\n",
              " </div>\n",
              " </td>,\n",
              " <td class=\"title\">\n",
              " <a class=\"tit\" href=\"/item/news_read.nhn?article_id=0004624278&amp;office_id=008&amp;code=263750&amp;page=1&amp;sm=title_entity_id.basic\" onclick=\"clickcr(this,'stn.ntitclustsub','','',event);\" target=\"_top\"><span class=\"ico_reply\"></span>펄어비스, 기대작 '붉은사막' 출시 연기에 5.48%↓</a>\n",
              " </td>,\n",
              " <td class=\"info\">머니투데이</td>,\n",
              " <td class=\"date\"> 2021.07.30 10:12</td>,\n",
              " <td class=\"title\">\n",
              " <a class=\"tit\" href=\"/item/news_read.nhn?article_id=0004998558&amp;office_id=018&amp;code=263750&amp;page=1&amp;sm=title_entity_id.basic\" onclick=\"clickcr(this,'stn.ntitclustsub','','',event);\" target=\"_top\"><span class=\"ico_reply\"></span>[특징주]펄어비스, '붉은사막' 출시 연기에 4%대↓</a>\n",
              " </td>,\n",
              " <td class=\"info\">이데일리</td>,\n",
              " <td class=\"date\"> 2021.07.30 09:20</td>,\n",
              " <td class=\"title\">\n",
              " <a class=\"tit\" href=\"/item/news_read.nhn?article_id=0000750688&amp;office_id=366&amp;code=263750&amp;page=1&amp;sm=title_entity_id.basic\" onclick=\"clickcr(this,'stn.ntitclust','','',event);\" target=\"_top\">펄어비스 신작 ‘붉은사막’ 출시 연기</a>\n",
              " </td>,\n",
              " <td class=\"info\">조선비즈</td>,\n",
              " <td class=\"date\"> 2021.07.29 19:53</td>,\n",
              " <td colspan=\"3\">\n",
              " <table class=\"type5\">\n",
              " <caption>연관기사 목록</caption>\n",
              " <colgroup>\n",
              " <col/>\n",
              " <col width=\"130px\"/>\n",
              " <col width=\"110px\"/>\n",
              " </colgroup>\n",
              " <tbody>\n",
              " <tr>\n",
              " <td class=\"title\">\n",
              " <a class=\"tit\" href=\"/item/news_read.nhn?article_id=0004998338&amp;office_id=018&amp;code=263750&amp;page=1&amp;sm=title_entity_id.basic\" onclick=\"clickcr(this,'stn.ntitclustsub','','',event);\" target=\"_top\"><span class=\"ico_reply\"></span>펄어비스, 대형 야심작 ‘붉은사막’ 출시 연기</a>\n",
              " </td>\n",
              " <td class=\"info\">이데일리</td>\n",
              " <td class=\"date\"> 2021.07.29 18:21</td>\n",
              " </tr>\n",
              " <tr class=\"hide_news none\">\n",
              " <td class=\"title\">\n",
              " <a class=\"tit\" href=\"/item/news_read.nhn?article_id=0004831338&amp;office_id=009&amp;code=263750&amp;page=1&amp;sm=title_entity_id.basic\" onclick=\"clickcr(this,'stn.ntitclustsub','','',event);\" target=\"_top\"><span class=\"ico_reply\"></span>펄어비스 ‘붉은사막’ 출시 연기…“추후 일정 공개”</a>\n",
              " </td>\n",
              " <td class=\"info\">매일경제</td>\n",
              " <td class=\"date\"> 2021.07.29 18:06</td>\n",
              " </tr>\n",
              " </tbody>\n",
              " </table>\n",
              " <div class=\"link_area\">\n",
              " <a class=\"_moreBtn\" data-count=\"1\" href=\"#\" onclick=\"toggleList(this); return false;\">관련뉴스 <em>1</em>건 더보기<span class=\"ico_down\"></span></a>\n",
              " </div>\n",
              " </td>,\n",
              " <td class=\"title\">\n",
              " <a class=\"tit\" href=\"/item/news_read.nhn?article_id=0004998338&amp;office_id=018&amp;code=263750&amp;page=1&amp;sm=title_entity_id.basic\" onclick=\"clickcr(this,'stn.ntitclustsub','','',event);\" target=\"_top\"><span class=\"ico_reply\"></span>펄어비스, 대형 야심작 ‘붉은사막’ 출시 연기</a>\n",
              " </td>,\n",
              " <td class=\"info\">이데일리</td>,\n",
              " <td class=\"date\"> 2021.07.29 18:21</td>,\n",
              " <td class=\"title\">\n",
              " <a class=\"tit\" href=\"/item/news_read.nhn?article_id=0004831338&amp;office_id=009&amp;code=263750&amp;page=1&amp;sm=title_entity_id.basic\" onclick=\"clickcr(this,'stn.ntitclustsub','','',event);\" target=\"_top\"><span class=\"ico_reply\"></span>펄어비스 ‘붉은사막’ 출시 연기…“추후 일정 공개”</a>\n",
              " </td>,\n",
              " <td class=\"info\">매일경제</td>,\n",
              " <td class=\"date\"> 2021.07.29 18:06</td>,\n",
              " <td class=\"title\">\n",
              " <a class=\"tit\" href=\"/item/news_read.nhn?article_id=0004993748&amp;office_id=018&amp;code=263750&amp;page=1&amp;sm=title_entity_id.basic\" onclick=\"clickcr(this,'stn.ntitclust','','',event);\" target=\"_top\">코스닥 주간 외국인 순매도 상위 1위 '펄어비스'</a>\n",
              " </td>,\n",
              " <td class=\"info\">이데일리</td>,\n",
              " <td class=\"date\"> 2021.07.25 09:45</td>,\n",
              " <td class=\"title\">\n",
              " <a class=\"tit\" href=\"/item/news_read.nhn?article_id=0001865497&amp;office_id=016&amp;code=263750&amp;page=1&amp;sm=title_entity_id.basic\" onclick=\"clickcr(this,'stn.ntitclust','','',event);\" target=\"_top\">카카오게임즈 ‘오딘’ vs 펄어비스 ‘사막’...‘게임주 3위’ 불꽃경...</a>\n",
              " </td>,\n",
              " <td class=\"info\">헤럴드경제</td>,\n",
              " <td class=\"date\"> 2021.07.23 11:24</td>,\n",
              " <td colspan=\"3\">\n",
              " <table class=\"type5\">\n",
              " <caption>연관기사 목록</caption>\n",
              " <colgroup>\n",
              " <col/>\n",
              " <col width=\"130px\"/>\n",
              " <col width=\"110px\"/>\n",
              " </colgroup>\n",
              " <tbody>\n",
              " <tr>\n",
              " <td class=\"title\">\n",
              " <a class=\"tit\" href=\"/item/news_read.nhn?article_id=0004992539&amp;office_id=018&amp;code=263750&amp;page=1&amp;sm=title_entity_id.basic\" onclick=\"clickcr(this,'stn.ntitclustsub','','',event);\" target=\"_top\"><span class=\"ico_reply\"></span>펄어비스, '붉은 사막' 론칭 연기 전략적 조정-이베스트</a>\n",
              " </td>\n",
              " <td class=\"info\">이데일리</td>\n",
              " <td class=\"date\"> 2021.07.23 08:16</td>\n",
              " </tr>\n",
              " </tbody>\n",
              " </table>\n",
              " </td>,\n",
              " <td class=\"title\">\n",
              " <a class=\"tit\" href=\"/item/news_read.nhn?article_id=0004992539&amp;office_id=018&amp;code=263750&amp;page=1&amp;sm=title_entity_id.basic\" onclick=\"clickcr(this,'stn.ntitclustsub','','',event);\" target=\"_top\"><span class=\"ico_reply\"></span>펄어비스, '붉은 사막' 론칭 연기 전략적 조정-이베스트</a>\n",
              " </td>,\n",
              " <td class=\"info\">이데일리</td>,\n",
              " <td class=\"date\"> 2021.07.23 08:16</td>,\n",
              " <td class=\"title\">\n",
              " <a class=\"tit\" href=\"/item/news_read.nhn?article_id=0004678667&amp;office_id=014&amp;code=263750&amp;page=1&amp;sm=title_entity_id.basic\" onclick=\"clickcr(this,'stn.ntitclust','','',event);\" target=\"_top\">[특징주]펄어비스, '검은사막 중국 출시' 기대감 소진에 약세</a>\n",
              " </td>,\n",
              " <td class=\"info\">파이낸셜뉴스</td>,\n",
              " <td class=\"date\"> 2021.07.21 11:09</td>,\n",
              " <td colspan=\"3\">\n",
              " <table class=\"type5\">\n",
              " <caption>연관기사 목록</caption>\n",
              " <colgroup>\n",
              " <col/>\n",
              " <col width=\"130px\"/>\n",
              " <col width=\"110px\"/>\n",
              " </colgroup>\n",
              " <tbody>\n",
              " <tr>\n",
              " <td class=\"title\">\n",
              " <a class=\"tit\" href=\"/item/news_read.nhn?article_id=0004940870&amp;office_id=277&amp;code=263750&amp;page=1&amp;sm=title_entity_id.basic\" onclick=\"clickcr(this,'stn.ntitclustsub','','',event);\" target=\"_top\"><span class=\"ico_reply\"></span>[특징주]펄어비스, 2Q 실적 부진 우려+붉은사막 출시 지연 전망에 ...</a>\n",
              " </td>\n",
              " <td class=\"info\">아시아경제</td>\n",
              " <td class=\"date\"> 2021.07.21 10:14</td>\n",
              " </tr>\n",
              " <tr class=\"hide_news none\">\n",
              " <td class=\"title\">\n",
              " <a class=\"tit\" href=\"/item/news_read.nhn?article_id=0004990283&amp;office_id=018&amp;code=263750&amp;page=1&amp;sm=title_entity_id.basic\" onclick=\"clickcr(this,'stn.ntitclustsub','','',event);\" target=\"_top\"><span class=\"ico_reply\"></span>펄어비스, 붉은 사막 출시 연기…“상승 여력 높지 않아”</a>\n",
              " </td>\n",
              " <td class=\"info\">이데일리</td>\n",
              " <td class=\"date\"> 2021.07.21 08:26</td>\n",
              " </tr>\n",
              " </tbody>\n",
              " </table>\n",
              " <div class=\"link_area\">\n",
              " <a class=\"_moreBtn\" data-count=\"1\" href=\"#\" onclick=\"toggleList(this); return false;\">관련뉴스 <em>1</em>건 더보기<span class=\"ico_down\"></span></a>\n",
              " </div>\n",
              " </td>,\n",
              " <td class=\"title\">\n",
              " <a class=\"tit\" href=\"/item/news_read.nhn?article_id=0004940870&amp;office_id=277&amp;code=263750&amp;page=1&amp;sm=title_entity_id.basic\" onclick=\"clickcr(this,'stn.ntitclustsub','','',event);\" target=\"_top\"><span class=\"ico_reply\"></span>[특징주]펄어비스, 2Q 실적 부진 우려+붉은사막 출시 지연 전망에 ...</a>\n",
              " </td>,\n",
              " <td class=\"info\">아시아경제</td>,\n",
              " <td class=\"date\"> 2021.07.21 10:14</td>,\n",
              " <td class=\"title\">\n",
              " <a class=\"tit\" href=\"/item/news_read.nhn?article_id=0004990283&amp;office_id=018&amp;code=263750&amp;page=1&amp;sm=title_entity_id.basic\" onclick=\"clickcr(this,'stn.ntitclustsub','','',event);\" target=\"_top\"><span class=\"ico_reply\"></span>펄어비스, 붉은 사막 출시 연기…“상승 여력 높지 않아”</a>\n",
              " </td>,\n",
              " <td class=\"info\">이데일리</td>,\n",
              " <td class=\"date\"> 2021.07.21 08:26</td>,\n",
              " <td class=\"title\">\n",
              " <a class=\"tit\" href=\"/item/news_read.nhn?article_id=0004990540&amp;office_id=018&amp;code=263750&amp;page=1&amp;sm=title_entity_id.basic\" onclick=\"clickcr(this,'stn.ntitclust','','',event);\" target=\"_top\">[특징주]펄어비스, '붉은 사막' 연기 가능성에 약세</a>\n",
              " </td>,\n",
              " <td class=\"info\">이데일리</td>,\n",
              " <td class=\"date\"> 2021.07.21 10:39</td>,\n",
              " <td class=\"title\">\n",
              " <a class=\"tit\" href=\"/item/news_read.nhn?article_id=0001864020&amp;office_id=016&amp;code=263750&amp;page=1&amp;sm=title_entity_id.basic\" onclick=\"clickcr(this,'stn.ntitclust','','',event);\" target=\"_top\">펄어비스, 여전히 남은 모멘텀…목표주가 상향</a>\n",
              " </td>,\n",
              " <td class=\"info\">헤럴드경제</td>,\n",
              " <td class=\"date\"> 2021.07.20 15:21</td>,\n",
              " <td colspan=\"3\">\n",
              " <table class=\"type5\">\n",
              " <caption>연관기사 목록</caption>\n",
              " <colgroup>\n",
              " <col/>\n",
              " <col width=\"130px\"/>\n",
              " <col width=\"110px\"/>\n",
              " </colgroup>\n",
              " <tbody>\n",
              " <tr>\n",
              " <td class=\"title\">\n",
              " <a class=\"tit\" href=\"/item/news_read.nhn?article_id=0004618999&amp;office_id=008&amp;code=263750&amp;page=1&amp;sm=title_entity_id.basic\" onclick=\"clickcr(this,'stn.ntitclustsub','','',event);\" target=\"_top\"><span class=\"ico_reply\"></span>4거래일 연속 상승 중인 펄어비스…\"붉은사막 기대감 크다\"</a>\n",
              " </td>\n",
              " <td class=\"info\">머니투데이</td>\n",
              " <td class=\"date\"> 2021.07.20 13:24</td>\n",
              " </tr>\n",
              " <tr class=\"hide_news none\">\n",
              " <td class=\"title\">\n",
              " <a class=\"tit\" href=\"/item/news_read.nhn?article_id=0004989378&amp;office_id=018&amp;code=263750&amp;page=1&amp;sm=title_entity_id.basic\" onclick=\"clickcr(this,'stn.ntitclustsub','','',event);\" target=\"_top\"><span class=\"ico_reply\"></span>펄어비스, 붉은사막 中 출시 기대감 높아…목표가 ↑</a>\n",
              " </td>\n",
              " <td class=\"info\">이데일리</td>\n",
              " <td class=\"date\"> 2021.07.20 08:48</td>\n",
              " </tr>\n",
              " <tr class=\"hide_news none\">\n",
              " <td class=\"title\">\n",
              " <a class=\"tit\" href=\"/item/news_read.nhn?article_id=0004618717&amp;office_id=008&amp;code=263750&amp;page=1&amp;sm=title_entity_id.basic\" onclick=\"clickcr(this,'stn.ntitclustsub','','',event);\" target=\"_top\"><span class=\"ico_reply\"></span>펄어비스, '붉은사막' 출시 예정…목표주가 상향-신한</a>\n",
              " </td>\n",
              " <td class=\"info\">머니투데이</td>\n",
              " <td class=\"date\"> 2021.07.20 08:12</td>\n",
              " </tr>\n",
              " </tbody>\n",
              " </table>\n",
              " <div class=\"link_area\">\n",
              " <a class=\"_moreBtn\" data-count=\"2\" href=\"#\" onclick=\"toggleList(this); return false;\">관련뉴스 <em>2</em>건 더보기<span class=\"ico_down\"></span></a>\n",
              " </div>\n",
              " </td>,\n",
              " <td class=\"title\">\n",
              " <a class=\"tit\" href=\"/item/news_read.nhn?article_id=0004618999&amp;office_id=008&amp;code=263750&amp;page=1&amp;sm=title_entity_id.basic\" onclick=\"clickcr(this,'stn.ntitclustsub','','',event);\" target=\"_top\"><span class=\"ico_reply\"></span>4거래일 연속 상승 중인 펄어비스…\"붉은사막 기대감 크다\"</a>\n",
              " </td>,\n",
              " <td class=\"info\">머니투데이</td>,\n",
              " <td class=\"date\"> 2021.07.20 13:24</td>,\n",
              " <td class=\"title\">\n",
              " <a class=\"tit\" href=\"/item/news_read.nhn?article_id=0004989378&amp;office_id=018&amp;code=263750&amp;page=1&amp;sm=title_entity_id.basic\" onclick=\"clickcr(this,'stn.ntitclustsub','','',event);\" target=\"_top\"><span class=\"ico_reply\"></span>펄어비스, 붉은사막 中 출시 기대감 높아…목표가 ↑</a>\n",
              " </td>,\n",
              " <td class=\"info\">이데일리</td>,\n",
              " <td class=\"date\"> 2021.07.20 08:48</td>,\n",
              " <td class=\"title\">\n",
              " <a class=\"tit\" href=\"/item/news_read.nhn?article_id=0004618717&amp;office_id=008&amp;code=263750&amp;page=1&amp;sm=title_entity_id.basic\" onclick=\"clickcr(this,'stn.ntitclustsub','','',event);\" target=\"_top\"><span class=\"ico_reply\"></span>펄어비스, '붉은사막' 출시 예정…목표주가 상향-신한</a>\n",
              " </td>,\n",
              " <td class=\"info\">머니투데이</td>,\n",
              " <td class=\"date\"> 2021.07.20 08:12</td>,\n",
              " <td class=\"title\">\n",
              " <a class=\"tit\" href=\"/item/news_read.nhn?article_id=0001863195&amp;office_id=016&amp;code=263750&amp;page=1&amp;sm=title_entity_id.basic\" onclick=\"clickcr(this,'stn.ntitclust','','',event);\" target=\"_top\">[특징주]펄어비스, '검은 사막' 모바일 중국 흥행 기대감에 강세</a>\n",
              " </td>,\n",
              " <td class=\"info\">헤럴드경제</td>,\n",
              " <td class=\"date\"> 2021.07.19 10:20</td>,\n",
              " <td class=\"title\">\n",
              " <a class=\"tit\" href=\"/item/news_read.nhn?article_id=0004984910&amp;office_id=018&amp;code=263750&amp;page=1&amp;sm=title_entity_id.basic\" onclick=\"clickcr(this,'stn.ntitclust','','',event);\" target=\"_top\">[줌인] ‘게임 개발자 성공신화’ 펄어비스에 몰린 이유</a>\n",
              " </td>,\n",
              " <td class=\"info\">이데일리</td>,\n",
              " <td class=\"date\"> 2021.07.14 18:38</td>,\n",
              " <td class=\"title\">\n",
              " <a class=\"tit\" href=\"/item/news_read.nhn?article_id=0003936574&amp;office_id=011&amp;code=263750&amp;page=1&amp;sm=title_entity_id.basic\" onclick=\"clickcr(this,'stn.ntitclust','','',event);\" target=\"_top\">'非오너 주식부자' 톱10 중 5명이나···펄어비스는 어떤 기업?</a>\n",
              " </td>,\n",
              " <td class=\"info\">서울경제</td>,\n",
              " <td class=\"date\"> 2021.07.14 14:59</td>,\n",
              " <td class=\"on\">\n",
              " <a href=\"/item/news_news.nhn?code=263750&amp;page=1&amp;sm=title_entity_id.basic&amp;clusterId=\" onclick=\"clickcr(this,'stn.npag','','',event);\">1</a>\n",
              " </td>,\n",
              " <td>\n",
              " <a href=\"/item/news_news.nhn?code=263750&amp;page=2&amp;sm=title_entity_id.basic&amp;clusterId=\" onclick=\"clickcr(this,'stn.npag','','',event);\">2</a>\n",
              " </td>,\n",
              " <td>\n",
              " <a href=\"/item/news_news.nhn?code=263750&amp;page=3&amp;sm=title_entity_id.basic&amp;clusterId=\" onclick=\"clickcr(this,'stn.npag','','',event);\">3</a>\n",
              " </td>,\n",
              " <td>\n",
              " <a href=\"/item/news_news.nhn?code=263750&amp;page=4&amp;sm=title_entity_id.basic&amp;clusterId=\" onclick=\"clickcr(this,'stn.npag','','',event);\">4</a>\n",
              " </td>,\n",
              " <td>\n",
              " <a href=\"/item/news_news.nhn?code=263750&amp;page=5&amp;sm=title_entity_id.basic&amp;clusterId=\" onclick=\"clickcr(this,'stn.npag','','',event);\">5</a>\n",
              " </td>,\n",
              " <td>\n",
              " <a href=\"/item/news_news.nhn?code=263750&amp;page=6&amp;sm=title_entity_id.basic&amp;clusterId=\" onclick=\"clickcr(this,'stn.npag','','',event);\">6</a>\n",
              " </td>,\n",
              " <td>\n",
              " <a href=\"/item/news_news.nhn?code=263750&amp;page=7&amp;sm=title_entity_id.basic&amp;clusterId=\" onclick=\"clickcr(this,'stn.npag','','',event);\">7</a>\n",
              " </td>,\n",
              " <td>\n",
              " <a href=\"/item/news_news.nhn?code=263750&amp;page=8&amp;sm=title_entity_id.basic&amp;clusterId=\" onclick=\"clickcr(this,'stn.npag','','',event);\">8</a>\n",
              " </td>,\n",
              " <td>\n",
              " <a href=\"/item/news_news.nhn?code=263750&amp;page=9&amp;sm=title_entity_id.basic&amp;clusterId=\" onclick=\"clickcr(this,'stn.npag','','',event);\">9</a>\n",
              " </td>,\n",
              " <td>\n",
              " <a href=\"/item/news_news.nhn?code=263750&amp;page=10&amp;sm=title_entity_id.basic&amp;clusterId=\" onclick=\"clickcr(this,'stn.npag','','',event);\">10</a>\n",
              " </td>,\n",
              " <td class=\"pgR\">\n",
              " <a href=\"/item/news_news.nhn?code=263750&amp;page=11&amp;sm=title_entity_id.basic&amp;clusterId=\" onclick=\"clickcr(this,'stn.npag','','',event);\">\n",
              " \t\t\t\t다음<img alt=\"\" border=\"0\" height=\"5\" src=\"https://ssl.pstatic.net/static/n/cmn/bu_pgarR.gif\" width=\"3\"/>\n",
              " </a>\n",
              " </td>,\n",
              " <td class=\"pgRR\">\n",
              " <a href=\"/item/news_news.nhn?code=263750&amp;page=28&amp;sm=title_entity_id.basic&amp;clusterId=\" onclick=\"clickcr(this,'stn.npag','','',event);\">맨뒤\n",
              " \t\t\t\t<img alt=\"\" border=\"0\" height=\"5\" src=\"https://ssl.pstatic.net/static/n/cmn/bu_pgarRR.gif\" width=\"8\"/>\n",
              " </a>\n",
              " </td>]"
            ]
          },
          "execution_count": 86,
          "metadata": {},
          "output_type": "execute_result"
        }
      ]
    },
    {
      "cell_type": "markdown",
      "metadata": {
        "id": "06214ac1"
      },
      "source": [
        "## 증권 뉴스 날짜 크롤링"
      ],
      "id": "06214ac1"
    },
    {
      "cell_type": "code",
      "metadata": {
        "id": "04a8458f",
        "outputId": "286ffb72-55a0-4a9f-c8a0-abf1174c6213"
      },
      "source": [
        "src.find_all('td', class_='date')[0].text.strip().split()[0]"
      ],
      "id": "04a8458f",
      "execution_count": null,
      "outputs": [
        {
          "data": {
            "text/plain": [
              "'2021.07.30'"
            ]
          },
          "execution_count": 87,
          "metadata": {},
          "output_type": "execute_result"
        }
      ]
    },
    {
      "cell_type": "code",
      "metadata": {
        "id": "fac989c3",
        "outputId": "bc8b9e69-fd4c-4394-ea24-0eacd56731e6"
      },
      "source": [
        "src.find_all('td', class_='date')[4].text.strip().split()[0]"
      ],
      "id": "fac989c3",
      "execution_count": null,
      "outputs": [
        {
          "data": {
            "text/plain": [
              "'2021.07.29'"
            ]
          },
          "execution_count": 88,
          "metadata": {},
          "output_type": "execute_result"
        }
      ]
    },
    {
      "cell_type": "markdown",
      "metadata": {
        "id": "f4da9347"
      },
      "source": [
        "## 증권 뉴스 제목 크롤링"
      ],
      "id": "f4da9347"
    },
    {
      "cell_type": "code",
      "metadata": {
        "id": "a2698aba",
        "outputId": "ae4c5092-1e5c-4f1f-8a2e-4e3484a0bc1c"
      },
      "source": [
        "src.find_all('td', class_='title')[0].text.replace('\\n','')"
      ],
      "id": "a2698aba",
      "execution_count": null,
      "outputs": [
        {
          "data": {
            "text/plain": [
              "'펄어비스, 신작 ‘붉은사막’ 출시 연기 소식에 4% 넘게 하락'"
            ]
          },
          "execution_count": 89,
          "metadata": {},
          "output_type": "execute_result"
        }
      ]
    },
    {
      "cell_type": "markdown",
      "metadata": {
        "id": "8d786c05"
      },
      "source": [
        "## 증권 뉴스 정보제공 신문사 크롤링"
      ],
      "id": "8d786c05"
    },
    {
      "cell_type": "code",
      "metadata": {
        "id": "65306dbb",
        "outputId": "e57199aa-9658-4a7f-c6ba-2ea00ae37fc0"
      },
      "source": [
        "src.find_all('td', class_='info')[0].text"
      ],
      "id": "65306dbb",
      "execution_count": null,
      "outputs": [
        {
          "data": {
            "text/plain": [
              "'머니투데이'"
            ]
          },
          "execution_count": 124,
          "metadata": {},
          "output_type": "execute_result"
        }
      ]
    },
    {
      "cell_type": "markdown",
      "metadata": {
        "id": "7fe9eb88"
      },
      "source": [
        "## 증권 뉴스 내용 크롤링 하기(가장 많이 쓰인 단어 베스트 5)"
      ],
      "id": "7fe9eb88"
    },
    {
      "cell_type": "markdown",
      "metadata": {
        "id": "73bf2b4a"
      },
      "source": [
        "- 링크 얻기"
      ],
      "id": "73bf2b4a"
    },
    {
      "cell_type": "code",
      "metadata": {
        "id": "600f0761",
        "outputId": "c76d2546-acc7-4021-b479-708bc679f7f5"
      },
      "source": [
        "art = src.find_all('td', class_='title')[0].find_all('a', class_='tit')[0]\n",
        "type(art)\n",
        "art"
      ],
      "id": "600f0761",
      "execution_count": null,
      "outputs": [
        {
          "data": {
            "text/plain": [
              "<a class=\"tit\" href=\"/item/news_read.nhn?article_id=0004533907&amp;office_id=008&amp;code=263750&amp;page=20&amp;sm=title_entity_id.basic\" onclick=\"clickcr(this,'stn.ntitclust','','',event);\" target=\"_top\">펄어비스, 붉은사막 기대감에 기업가치 상승…목표가↑-SK</a>"
            ]
          },
          "execution_count": 158,
          "metadata": {},
          "output_type": "execute_result"
        }
      ]
    },
    {
      "cell_type": "code",
      "metadata": {
        "scrolled": true,
        "id": "1cc7c44f",
        "outputId": "ee9da28d-f08e-487a-aa5f-45df3ce47700"
      },
      "source": [
        "art[\"href\"]"
      ],
      "id": "1cc7c44f",
      "execution_count": null,
      "outputs": [
        {
          "data": {
            "text/plain": [
              "'/item/news_read.nhn?article_id=0004533907&office_id=008&code=263750&page=20&sm=title_entity_id.basic'"
            ]
          },
          "execution_count": 159,
          "metadata": {},
          "output_type": "execute_result"
        }
      ]
    },
    {
      "cell_type": "code",
      "metadata": {
        "id": "3cb43f33",
        "outputId": "1424a38c-9dc9-429d-98a8-588abd0bec95"
      },
      "source": [
        "art = src.find_all('td', class_='title')[1].find_all('a', class_='tit')[0]\n",
        "type(art)\n",
        "art[\"href\"]"
      ],
      "id": "3cb43f33",
      "execution_count": null,
      "outputs": [
        {
          "data": {
            "text/plain": [
              "'/item/news_read.nhn?article_id=0003860806&office_id=011&code=263750&page=20&sm=title_entity_id.basic'"
            ]
          },
          "execution_count": 162,
          "metadata": {},
          "output_type": "execute_result"
        }
      ]
    },
    {
      "cell_type": "code",
      "metadata": {
        "id": "2fe29520",
        "outputId": "0b67e448-4288-495c-d255-9959c8a643b0"
      },
      "source": [
        "src.find_all('td', class_='title')[1].find_all('a', class_='tit')[0][\"href\"]"
      ],
      "id": "2fe29520",
      "execution_count": null,
      "outputs": [
        {
          "data": {
            "text/plain": [
              "'/item/news_read.nhn?article_id=0003860806&office_id=011&code=263750&page=20&sm=title_entity_id.basic'"
            ]
          },
          "execution_count": 163,
          "metadata": {},
          "output_type": "execute_result"
        }
      ]
    },
    {
      "cell_type": "markdown",
      "metadata": {
        "id": "40d2c849"
      },
      "source": [
        "- 링크 안의 내용 가져오기"
      ],
      "id": "40d2c849"
    },
    {
      "cell_type": "code",
      "metadata": {
        "id": "067a0311",
        "outputId": "d3f04f00-8907-485c-d80f-810b3befe095"
      },
      "source": [
        "news_link = \"https://finance.naver.com\" + src.find_all('td', class_='title')[0].find_all('a', class_='tit')[0][\"href\"]\n",
        "\n",
        "news_link\n",
        "# https://finance.naver.com/item/news_read.nhn?article_id=0000750870&office_id=366&code=263750&page=1&sm=title_entity_id.basic"
      ],
      "id": "067a0311",
      "execution_count": null,
      "outputs": [
        {
          "data": {
            "text/plain": [
              "'https://finance.naver.com/item/news_read.nhn?article_id=0004533907&office_id=008&code=263750&page=20&sm=title_entity_id.basic'"
            ]
          },
          "execution_count": 175,
          "metadata": {},
          "output_type": "execute_result"
        }
      ]
    },
    {
      "cell_type": "code",
      "metadata": {
        "scrolled": false,
        "id": "42edaa7f",
        "outputId": "8fbf85d0-d31b-4d9c-8bbf-068851b58b59"
      },
      "source": [
        "res = requests.get(news_link)\n",
        "art_source = res.text\n",
        "art_src = bs4.BeautifulSoup(art_source, 'lxml')\n",
        "art = art_src.find('div', id='news_read')\n",
        "type(art.text)"
      ],
      "id": "42edaa7f",
      "execution_count": null,
      "outputs": [
        {
          "data": {
            "text/plain": [
              "str"
            ]
          },
          "execution_count": 189,
          "metadata": {},
          "output_type": "execute_result"
        }
      ]
    },
    {
      "cell_type": "code",
      "metadata": {
        "id": "df4e0f0a",
        "outputId": "6c8155f3-0ce0-46ef-8b19-b360669245e2"
      },
      "source": [
        "news_data = art.text.split()\n",
        "def most_frequent(news_data):\n",
        "    return max(news_data, key=news_data.count)\n",
        "most_frequent(news_data)"
      ],
      "id": "df4e0f0a",
      "execution_count": null,
      "outputs": [
        {
          "data": {
            "text/plain": [
              "'검은사막'"
            ]
          },
          "execution_count": 193,
          "metadata": {},
          "output_type": "execute_result"
        }
      ]
    },
    {
      "cell_type": "markdown",
      "metadata": {
        "id": "1e07dddd"
      },
      "source": [
        "## 해당 페이지 데이터 크롤링"
      ],
      "id": "1e07dddd"
    },
    {
      "cell_type": "code",
      "metadata": {
        "id": "f63c9960"
      },
      "source": [
        "dates = src.find_all('td', class_='date')"
      ],
      "id": "f63c9960",
      "execution_count": null,
      "outputs": []
    },
    {
      "cell_type": "code",
      "metadata": {
        "id": "1da19542"
      },
      "source": [
        "titles = src.find_all('td', class_='title')"
      ],
      "id": "1da19542",
      "execution_count": null,
      "outputs": []
    },
    {
      "cell_type": "code",
      "metadata": {
        "id": "2899c0fa"
      },
      "source": [
        "infos = src.find_all('td', class_='info')"
      ],
      "id": "2899c0fa",
      "execution_count": null,
      "outputs": []
    },
    {
      "cell_type": "code",
      "metadata": {
        "id": "4b57b6d4"
      },
      "source": [
        ""
      ],
      "id": "4b57b6d4",
      "execution_count": null,
      "outputs": []
    },
    {
      "cell_type": "code",
      "metadata": {
        "id": "55db87ca",
        "outputId": "84f15a26-640a-4714-87bf-a485a74440d6"
      },
      "source": [
        "for i in range(len(dates)):\n",
        "    news_date = dates[i].text.strip().split()[0]\n",
        "    news_date = date_format(news_date)\n",
        "    news_title = titles[i].text.replace('\\n','')\n",
        "    news_info = info[i].text\n",
        "    news_link = \"https://finance.naver.com\" + src.find_all('td', class_='title')[0].find_all('a', class_='tit')[0][\"href\"]\n",
        "    news_source = urlopen(news_link).read()\n",
        "    news_src = bs4.BeautifulSoup(news_source)\n",
        "    news_art = news_src.find('div', id='news_read').text.split()\n",
        "    word_dict = dict()\n",
        "    for word in news_art:\n",
        "        word_dict[word] = word_dict.get(word, 0) + 1\n",
        "    a = sorted(word_dict, key= lambda x : word_dict[x], reverse=True)\n",
        "    news_word1 = a[0]\n",
        "    news_word2 = a[1]\n",
        "    news_word3 = a[2]\n",
        "    news_word4 = a[3]\n",
        "    news_word5 = a[4]\n",
        "#     news_word1 = most_frequent(news_art)\n",
        "#     news_art.remove(news_word1)\n",
        "#     news_word2 = most_frequent(news_art)\n",
        "#     news_art.remove(news_word2)\n",
        "#     news_word3 = most_frequent(news_art)\n",
        "    print(news_date, news_title, news_info, news_word1, news_word2, news_word3, news_word4, news_word5)"
      ],
      "id": "55db87ca",
      "execution_count": null,
      "outputs": [
        {
          "name": "stdout",
          "output_type": "stream",
          "text": [
            "2021-02-17 \"펄어비스, 붉은사막 흥행 기대···목표가↑\" 조선비즈 및 올해 연구원은 기존 KTB증권은\n",
            "2021-02-17 펄어비스, 신작 '붉은사막' 예상 판매량↑…목표가도↑-KTB 머니투데이 및 올해 연구원은 기존 KTB증권은\n",
            "2021-02-17 펄어비스, 신작 '붉은사막' 흥행 기대…조정시 매수 -신한 이데일리 및 올해 연구원은 기존 KTB증권은\n",
            "2021-02-17 [클릭 e종목]\"펄어비스, 붉은사막 초기 판매량 상향조정…목표가↑\" 조선비즈 및 올해 연구원은 기존 KTB증권은\n",
            "2021-02-16 펄어비스, 5대1 액면분할 결정 이데일리 및 올해 연구원은 기존 KTB증권은\n",
            "2021-02-16 펄어비스, 5대 1 액면분할 결정 매일경제 및 올해 연구원은 기존 KTB증권은\n",
            "2021-02-16 펄어비스 작년 영업익 4.4% 증가 이데일리 및 올해 연구원은 기존 KTB증권은\n",
            "2021-02-16 펄어비스, 올해 '붉은사막'만 보고 간다…\"트리플A급 성적 자신\" 헤럴드경제 및 올해 연구원은 기존 KTB증권은\n",
            "2021-02-16 [종합] 펄어비스, 올해 ‘붉은사막’ 집중…도약 예열 ‘이상무’ 이데일리 및 올해 연구원은 기존 KTB증권은\n",
            "2021-02-16 [펄어비스 컨콜] “붉은사막, 트리플A급 성과 달성 ‘목표’” 파이낸셜뉴스 및 올해 연구원은 기존 KTB증권은\n",
            "2021-02-16 [컨콜] 펄어비스, ‘붉은사막’ 기대감…‘도깨비·플랜8’ 해마다 1종씩... 아시아경제 및 올해 연구원은 기존 KTB증권은\n",
            "2021-02-16 펄어비스, 작년 영업익 1573억…해외매출 비중 77% 이데일리 및 올해 연구원은 기존 KTB증권은\n",
            "2021-02-16 ‘검은사막’ 펄어비스 4분기 영업익 200억…전년比 30% 급락 이데일리 및 올해 연구원은 기존 KTB증권은\n",
            "2021-02-16 펄어비스, 지난해 영업이익 1,573억 원... 전년比 4.4% 늘어 헤럴드경제 및 올해 연구원은 기존 KTB증권은\n",
            "2021-02-16 펄어비스, 작년 매출 4888억원…전년비 매출↓·영업익↑ 머니투데이 및 올해 연구원은 기존 KTB증권은\n",
            "2021-02-16 펄어비스, 4분기 영업이익 200억원…전년比 29.9%↓ 이데일리 및 올해 연구원은 기존 KTB증권은\n",
            "2021-02-16 [공시] 펄어비스, 4Q 영업익 199억원...전년比 29.9%↓ 머니투데이 및 올해 연구원은 기존 KTB증권은\n",
            "2021-02-16 펄어비스, 지난해 영업익 1573억…전년比 4.4%↑ ‘선방’ 헤럴드경제 및 올해 연구원은 기존 KTB증권은\n",
            "2021-02-16 펄어비스, 작년 영업이익 1573억...전년比 4.4% ↑ 이데일리 및 올해 연구원은 기존 KTB증권은\n",
            "2021-02-11 코스닥 게임 대장株 펄어비스, 실적 타고 더 오를까 서울경제 및 올해 연구원은 기존 KTB증권은\n"
          ]
        },
        {
          "ename": "IndexError",
          "evalue": "list index out of range",
          "output_type": "error",
          "traceback": [
            "\u001b[1;31m---------------------------------------------------------------------------\u001b[0m",
            "\u001b[1;31mIndexError\u001b[0m                                Traceback (most recent call last)",
            "\u001b[1;32m<ipython-input-214-d5ac20c21704>\u001b[0m in \u001b[0;36m<module>\u001b[1;34m\u001b[0m\n\u001b[0;32m      3\u001b[0m     \u001b[0mnews_date\u001b[0m \u001b[1;33m=\u001b[0m \u001b[0mdate_format\u001b[0m\u001b[1;33m(\u001b[0m\u001b[0mnews_date\u001b[0m\u001b[1;33m)\u001b[0m\u001b[1;33m\u001b[0m\u001b[1;33m\u001b[0m\u001b[0m\n\u001b[0;32m      4\u001b[0m     \u001b[0mnews_title\u001b[0m \u001b[1;33m=\u001b[0m \u001b[0mtitles\u001b[0m\u001b[1;33m[\u001b[0m\u001b[0mi\u001b[0m\u001b[1;33m]\u001b[0m\u001b[1;33m.\u001b[0m\u001b[0mtext\u001b[0m\u001b[1;33m.\u001b[0m\u001b[0mreplace\u001b[0m\u001b[1;33m(\u001b[0m\u001b[1;34m'\\n'\u001b[0m\u001b[1;33m,\u001b[0m\u001b[1;34m''\u001b[0m\u001b[1;33m)\u001b[0m\u001b[1;33m\u001b[0m\u001b[1;33m\u001b[0m\u001b[0m\n\u001b[1;32m----> 5\u001b[1;33m     \u001b[0mnews_info\u001b[0m \u001b[1;33m=\u001b[0m \u001b[0minfo\u001b[0m\u001b[1;33m[\u001b[0m\u001b[0mi\u001b[0m\u001b[1;33m]\u001b[0m\u001b[1;33m.\u001b[0m\u001b[0mtext\u001b[0m\u001b[1;33m\u001b[0m\u001b[1;33m\u001b[0m\u001b[0m\n\u001b[0m\u001b[0;32m      6\u001b[0m     \u001b[0mnews_link\u001b[0m \u001b[1;33m=\u001b[0m \u001b[1;34m\"https://finance.naver.com\"\u001b[0m \u001b[1;33m+\u001b[0m \u001b[0msrc\u001b[0m\u001b[1;33m.\u001b[0m\u001b[0mfind_all\u001b[0m\u001b[1;33m(\u001b[0m\u001b[1;34m'td'\u001b[0m\u001b[1;33m,\u001b[0m \u001b[0mclass_\u001b[0m\u001b[1;33m=\u001b[0m\u001b[1;34m'title'\u001b[0m\u001b[1;33m)\u001b[0m\u001b[1;33m[\u001b[0m\u001b[1;36m0\u001b[0m\u001b[1;33m]\u001b[0m\u001b[1;33m.\u001b[0m\u001b[0mfind_all\u001b[0m\u001b[1;33m(\u001b[0m\u001b[1;34m'a'\u001b[0m\u001b[1;33m,\u001b[0m \u001b[0mclass_\u001b[0m\u001b[1;33m=\u001b[0m\u001b[1;34m'tit'\u001b[0m\u001b[1;33m)\u001b[0m\u001b[1;33m[\u001b[0m\u001b[1;36m0\u001b[0m\u001b[1;33m]\u001b[0m\u001b[1;33m[\u001b[0m\u001b[1;34m\"href\"\u001b[0m\u001b[1;33m]\u001b[0m\u001b[1;33m\u001b[0m\u001b[1;33m\u001b[0m\u001b[0m\n\u001b[0;32m      7\u001b[0m     \u001b[0mnews_source\u001b[0m \u001b[1;33m=\u001b[0m \u001b[0murlopen\u001b[0m\u001b[1;33m(\u001b[0m\u001b[0mnews_link\u001b[0m\u001b[1;33m)\u001b[0m\u001b[1;33m.\u001b[0m\u001b[0mread\u001b[0m\u001b[1;33m(\u001b[0m\u001b[1;33m)\u001b[0m\u001b[1;33m\u001b[0m\u001b[1;33m\u001b[0m\u001b[0m\n",
            "\u001b[1;31mIndexError\u001b[0m: list index out of range"
          ]
        }
      ]
    },
    {
      "cell_type": "markdown",
      "metadata": {
        "id": "6869ff5a"
      },
      "source": [
        "## 100페이지에 있는 데이터 크롤링"
      ],
      "id": "6869ff5a"
    },
    {
      "cell_type": "code",
      "metadata": {
        "scrolled": true,
        "id": "fedd5279",
        "outputId": "07e96c6e-3cab-488c-ce82-4097afff5419"
      },
      "source": [
        "page_n = 20\n",
        "stock_cd = '263750'\n",
        "news_url = f\"https://finance.naver.com/item/news_news.nhn?code={stock_cd}&page={page_n}&sm=title_entity_id.basic&clusterId=\"\n",
        "source = urlopen(news_url).read()\n",
        "src = bs4.BeautifulSoup(source, 'lxml')\n",
        "dates = src.find_all('td', class_='date')\n",
        "titles = src.find_all('td', class_='title')\n",
        "infos = src.find_all('td', class_='info')\n",
        "for i in range(len(dates)):\n",
        "    news_date = dates[i].text.strip().split()[0]\n",
        "    news_date = date_format(news_date)\n",
        "    news_title = titles[i].text.replace('\\n','')\n",
        "    news_info = infos[i].text\n",
        "    news_link = \"https://finance.naver.com\" + src.find_all('td', class_='title')[0].find_all('a', class_='tit')[0][\"href\"]\n",
        "    news_source = urlopen(news_link).read()\n",
        "    news_src = bs4.BeautifulSoup(news_source)\n",
        "    news_art = news_src.find('div', id='news_read').text.split()\n",
        "    word_dict = dict()\n",
        "    for word in news_art:\n",
        "        word_dict[word] = word_dict.get(word, 0) + 1\n",
        "    a = sorted(word_dict, key= lambda x : word_dict[x], reverse=True)\n",
        "    news_word1 = a[0]\n",
        "    news_word2 = a[1]\n",
        "    news_word3 = a[2]\n",
        "    news_word4 = a[3]\n",
        "    news_word5 = a[4]\n",
        "#     news_word1 = most_frequent(news_art)\n",
        "#     news_art.remove(news_word1)\n",
        "#     news_word2 = most_frequent(news_art)\n",
        "#     news_art.remove(news_word2)\n",
        "#     news_word3 = most_frequent(news_art)\n",
        "    print(news_date, news_title, news_info, news_word1, news_word2, news_word3, news_word4, news_word5)"
      ],
      "id": "fedd5279",
      "execution_count": null,
      "outputs": [
        {
          "name": "stdout",
          "output_type": "stream",
          "text": [
            "2021-01-27 [특징주]엔씨소프트·넷마블·펄어비스 급등…계속되는 게임株 강세 헤럴드경제 올해 것으로 있다. 및 대한\n",
            "2021-01-26 펄어비스, 붉은사막 기대감에 기업가치 상승…목표가↑-SK 머니투데이 올해 것으로 있다. 및 대한\n",
            "2021-01-22 [특징주] 신작효과·실적 개선 전망에 웹젠·펄어비스 등 동반 상승 서울경제 올해 것으로 있다. 및 대한\n",
            "2021-01-22 펄어비스, 신작 '붉은 사막' 모멘텀 등 긍정적…목표가↑ -이베스트 이데일리 올해 것으로 있다. 및 대한\n",
            "2021-01-21 펄어비스의 ‘검은사막’ 북미·유럽 직접 서비스…이번에도 성공할까 매일경제 올해 것으로 있다. 및 대한\n",
            "2021-01-14 펄어비스 ‘섀도우 아레나’, 팀 협업 플레이 강화 이데일리 올해 것으로 있다. 및 대한\n",
            "2021-01-05 펄어비스·카카오게임즈·컴투스 게임중견 3인방, 대형 신작 승부수 매일경제 올해 것으로 있다. 및 대한\n",
            "2021-01-04 펄어비스 ‘검은사막’, 북미·유럽 스팀 4위 ‘기염’ 이데일리 올해 것으로 있다. 및 대한\n",
            "2021-01-04 펄어비스 ‘검은사막’ 북미·유럽 스팀 MMO 장르 판매 4위 매일경제 올해 것으로 있다. 및 대한\n",
            "2020-12-30 펄어비스 ‘검은사막’, 업데이트 통했다…신규 이용자 125% 증가 매일경제 올해 것으로 있다. 및 대한\n",
            "2020-12-23 펄어비스, 새해 ‘붉은사막’으로 승부한다 파이낸셜뉴스 올해 것으로 있다. 및 대한\n"
          ]
        }
      ]
    },
    {
      "cell_type": "markdown",
      "metadata": {
        "id": "10499b06"
      },
      "source": [
        "## 데이터들 크롤링하기"
      ],
      "id": "10499b06"
    },
    {
      "cell_type": "code",
      "metadata": {
        "id": "c7c321d2",
        "outputId": "3148d6cb-1fd8-4040-8ea7-a7c8bca58ab5"
      },
      "source": [
        "def crawl_news_data(stock_cd, end_page):\n",
        "    date_list = []\n",
        "    title_list = []\n",
        "    info_list = []\n",
        "    word_list1 = []\n",
        "    word_list2 = []\n",
        "    word_list3 = []\n",
        "    word_list4 = []\n",
        "    word_list5 = []\n",
        "    for i in range(1, end_page+1):\n",
        "        page_n = i\n",
        "        news_url = f\"https://finance.naver.com/item/news_news.nhn?code={stock_cd}&page={page_n}&sm=title_entity_id.basic&clusterId=\"\n",
        "        source = urlopen(news_url).read()\n",
        "        src = bs4.BeautifulSoup(source, 'lxml')\n",
        "        dates = src.find_all('td', class_='date')\n",
        "        titles = src.find_all('td', class_='title')\n",
        "        infos = src.find_all('td', class_='info')\n",
        "        for i in range(len(dates)):\n",
        "            news_date = dates[i].text.strip().split()[0]\n",
        "            news_date = date_format(news_date)\n",
        "            news_title = titles[i].text.replace('\\n','')\n",
        "            news_info = infos[i].text\n",
        "            news_link = \"https://finance.naver.com\" + src.find_all('td', class_='title')[0].find_all('a', class_='tit')[0][\"href\"]\n",
        "            news_source = urlopen(news_link).read()\n",
        "            news_src = bs4.BeautifulSoup(news_source)\n",
        "            news_art = news_src.find('div', id='news_read').text.split()\n",
        "            word_dict = dict()\n",
        "            for word in news_art:\n",
        "                word_dict[word] = word_dict.get(word, 0) + 1\n",
        "            a = sorted(word_dict, key= lambda x : word_dict[x], reverse=True)\n",
        "            news_word1 = a[0]\n",
        "            news_word2 = a[1]\n",
        "            news_word3 = a[2]\n",
        "            news_word4 = a[3]\n",
        "            news_word5 = a[4]\n",
        "#             news_word1 = most_frequent(news_art)\n",
        "#             news_art.remove(news_word1)\n",
        "#             news_word2 = most_frequent(news_art)\n",
        "#             news_art.remove(news_word2)\n",
        "#             news_word3 = most_frequent(news_art)\n",
        "            date_list.append(news_date)\n",
        "            title_list.append(news_title)\n",
        "            info_list.append(news_info)\n",
        "            word_list1.append(news_word1)\n",
        "            word_list2.append(news_word2)\n",
        "            word_list3.append(news_word3)\n",
        "            word_list4.append(news_word4)\n",
        "            word_list5.append(news_word5)\n",
        "    df = pd.DataFrame({\"날짜\" : date_list, \"뉴스 제목\" : title_list, \"제공\" : info_list, '키워드1' : word_list1, '키워드2' : word_list2, '키워드3' : word_list3,\n",
        "                      \"키워드4\" : word_list4, \"키워드5\" : word_list5})\n",
        "    return df\n",
        "crawl_news_data(263750, 10)\n"
      ],
      "id": "c7c321d2",
      "execution_count": null,
      "outputs": [
        {
          "data": {
            "text/html": [
              "<div>\n",
              "<style scoped>\n",
              "    .dataframe tbody tr th:only-of-type {\n",
              "        vertical-align: middle;\n",
              "    }\n",
              "\n",
              "    .dataframe tbody tr th {\n",
              "        vertical-align: top;\n",
              "    }\n",
              "\n",
              "    .dataframe thead th {\n",
              "        text-align: right;\n",
              "    }\n",
              "</style>\n",
              "<table border=\"1\" class=\"dataframe\">\n",
              "  <thead>\n",
              "    <tr style=\"text-align: right;\">\n",
              "      <th></th>\n",
              "      <th>날짜</th>\n",
              "      <th>뉴스 제목</th>\n",
              "      <th>제공</th>\n",
              "      <th>키워드1</th>\n",
              "      <th>키워드2</th>\n",
              "      <th>키워드3</th>\n",
              "      <th>키워드4</th>\n",
              "      <th>키워드5</th>\n",
              "    </tr>\n",
              "  </thead>\n",
              "  <tbody>\n",
              "    <tr>\n",
              "      <th>0</th>\n",
              "      <td>2021-08-03</td>\n",
              "      <td>게임株까지 덮친 ‘中공산당 리스크’ ···펄어비스·위메이드 와르르</td>\n",
              "      <td>서울경제</td>\n",
              "      <td>중국</td>\n",
              "      <td>게임</td>\n",
              "      <td>국내</td>\n",
              "      <td>발급</td>\n",
              "      <td>규제</td>\n",
              "    </tr>\n",
              "    <tr>\n",
              "      <th>1</th>\n",
              "      <td>2021-07-30</td>\n",
              "      <td>펄어비스, 신작 ‘붉은사막’ 출시 연기 소식에 4% 넘게 하락</td>\n",
              "      <td>조선비즈</td>\n",
              "      <td>중국</td>\n",
              "      <td>게임</td>\n",
              "      <td>국내</td>\n",
              "      <td>발급</td>\n",
              "      <td>규제</td>\n",
              "    </tr>\n",
              "    <tr>\n",
              "      <th>2</th>\n",
              "      <td>2021-07-30</td>\n",
              "      <td>펄어비스, 기대작 '붉은사막' 출시 연기에 5.48%↓</td>\n",
              "      <td>머니투데이</td>\n",
              "      <td>중국</td>\n",
              "      <td>게임</td>\n",
              "      <td>국내</td>\n",
              "      <td>발급</td>\n",
              "      <td>규제</td>\n",
              "    </tr>\n",
              "    <tr>\n",
              "      <th>3</th>\n",
              "      <td>2021-07-30</td>\n",
              "      <td>[특징주]펄어비스, '붉은사막' 출시 연기에 4%대↓</td>\n",
              "      <td>이데일리</td>\n",
              "      <td>중국</td>\n",
              "      <td>게임</td>\n",
              "      <td>국내</td>\n",
              "      <td>발급</td>\n",
              "      <td>규제</td>\n",
              "    </tr>\n",
              "    <tr>\n",
              "      <th>4</th>\n",
              "      <td>2021-07-29</td>\n",
              "      <td>펄어비스 신작 ‘붉은사막’ 출시 연기</td>\n",
              "      <td>조선비즈</td>\n",
              "      <td>중국</td>\n",
              "      <td>게임</td>\n",
              "      <td>국내</td>\n",
              "      <td>발급</td>\n",
              "      <td>규제</td>\n",
              "    </tr>\n",
              "    <tr>\n",
              "      <th>...</th>\n",
              "      <td>...</td>\n",
              "      <td>...</td>\n",
              "      <td>...</td>\n",
              "      <td>...</td>\n",
              "      <td>...</td>\n",
              "      <td>...</td>\n",
              "      <td>...</td>\n",
              "      <td>...</td>\n",
              "    </tr>\n",
              "    <tr>\n",
              "      <th>177</th>\n",
              "      <td>2021-02-16</td>\n",
              "      <td>[공시] 펄어비스, 4Q 영업익 199억원...전년比 29.9%↓</td>\n",
              "      <td>파이낸셜뉴스</td>\n",
              "      <td>및</td>\n",
              "      <td>올해</td>\n",
              "      <td>연구원은</td>\n",
              "      <td>기존</td>\n",
              "      <td>KTB증권은</td>\n",
              "    </tr>\n",
              "    <tr>\n",
              "      <th>178</th>\n",
              "      <td>2021-02-16</td>\n",
              "      <td>펄어비스, 지난해 영업익 1573억…전년比 4.4%↑ ‘선방’</td>\n",
              "      <td>매일경제</td>\n",
              "      <td>및</td>\n",
              "      <td>올해</td>\n",
              "      <td>연구원은</td>\n",
              "      <td>기존</td>\n",
              "      <td>KTB증권은</td>\n",
              "    </tr>\n",
              "    <tr>\n",
              "      <th>179</th>\n",
              "      <td>2021-02-16</td>\n",
              "      <td>펄어비스, 작년 영업이익 1573억...전년比 4.4% ↑</td>\n",
              "      <td>아시아경제</td>\n",
              "      <td>및</td>\n",
              "      <td>올해</td>\n",
              "      <td>연구원은</td>\n",
              "      <td>기존</td>\n",
              "      <td>KTB증권은</td>\n",
              "    </tr>\n",
              "    <tr>\n",
              "      <th>180</th>\n",
              "      <td>2021-02-11</td>\n",
              "      <td>코스닥 게임 대장株 펄어비스, 실적 타고 더 오를까</td>\n",
              "      <td>이데일리</td>\n",
              "      <td>및</td>\n",
              "      <td>올해</td>\n",
              "      <td>연구원은</td>\n",
              "      <td>기존</td>\n",
              "      <td>KTB증권은</td>\n",
              "    </tr>\n",
              "    <tr>\n",
              "      <th>181</th>\n",
              "      <td>2021-02-05</td>\n",
              "      <td>펄어비스 차기작 ‘붉은사막’, 해외서 잇단 호평</td>\n",
              "      <td>매일경제</td>\n",
              "      <td>및</td>\n",
              "      <td>올해</td>\n",
              "      <td>연구원은</td>\n",
              "      <td>기존</td>\n",
              "      <td>KTB증권은</td>\n",
              "    </tr>\n",
              "  </tbody>\n",
              "</table>\n",
              "<p>182 rows × 8 columns</p>\n",
              "</div>"
            ],
            "text/plain": [
              "             날짜                                 뉴스 제목      제공 키워드1 키워드2  키워드3  \\\n",
              "0    2021-08-03  게임株까지 덮친 ‘中공산당 리스크’ ···펄어비스·위메이드 와르르    서울경제   중국   게임    국내   \n",
              "1    2021-07-30    펄어비스, 신작 ‘붉은사막’ 출시 연기 소식에 4% 넘게 하락    조선비즈   중국   게임    국내   \n",
              "2    2021-07-30        펄어비스, 기대작 '붉은사막' 출시 연기에 5.48%↓   머니투데이   중국   게임    국내   \n",
              "3    2021-07-30         [특징주]펄어비스, '붉은사막' 출시 연기에 4%대↓    이데일리   중국   게임    국내   \n",
              "4    2021-07-29                  펄어비스 신작 ‘붉은사막’ 출시 연기    조선비즈   중국   게임    국내   \n",
              "..          ...                                   ...     ...  ...  ...   ...   \n",
              "177  2021-02-16  [공시] 펄어비스, 4Q 영업익 199억원...전년比 29.9%↓  파이낸셜뉴스    및   올해  연구원은   \n",
              "178  2021-02-16    펄어비스, 지난해 영업익 1573억…전년比 4.4%↑ ‘선방’    매일경제    및   올해  연구원은   \n",
              "179  2021-02-16      펄어비스, 작년 영업이익 1573억...전년比 4.4% ↑   아시아경제    및   올해  연구원은   \n",
              "180  2021-02-11          코스닥 게임 대장株 펄어비스, 실적 타고 더 오를까    이데일리    및   올해  연구원은   \n",
              "181  2021-02-05            펄어비스 차기작 ‘붉은사막’, 해외서 잇단 호평    매일경제    및   올해  연구원은   \n",
              "\n",
              "    키워드4    키워드5  \n",
              "0     발급      규제  \n",
              "1     발급      규제  \n",
              "2     발급      규제  \n",
              "3     발급      규제  \n",
              "4     발급      규제  \n",
              "..   ...     ...  \n",
              "177   기존  KTB증권은  \n",
              "178   기존  KTB증권은  \n",
              "179   기존  KTB증권은  \n",
              "180   기존  KTB증권은  \n",
              "181   기존  KTB증권은  \n",
              "\n",
              "[182 rows x 8 columns]"
            ]
          },
          "execution_count": 216,
          "metadata": {},
          "output_type": "execute_result"
        }
      ]
    },
    {
      "cell_type": "markdown",
      "metadata": {
        "id": "fd7d5c15"
      },
      "source": [
        "## 네이버 뉴스 크롤링하기\n",
        "- 네이버 코드  035420"
      ],
      "id": "fd7d5c15"
    },
    {
      "cell_type": "code",
      "metadata": {
        "scrolled": true,
        "id": "ed52bbe7",
        "outputId": "05751185-47a0-4d29-9f90-9aa557e4619a"
      },
      "source": [
        "crawl_news_data('035420', 50)"
      ],
      "id": "ed52bbe7",
      "execution_count": null,
      "outputs": [
        {
          "data": {
            "text/html": [
              "<div>\n",
              "<style scoped>\n",
              "    .dataframe tbody tr th:only-of-type {\n",
              "        vertical-align: middle;\n",
              "    }\n",
              "\n",
              "    .dataframe tbody tr th {\n",
              "        vertical-align: top;\n",
              "    }\n",
              "\n",
              "    .dataframe thead th {\n",
              "        text-align: right;\n",
              "    }\n",
              "</style>\n",
              "<table border=\"1\" class=\"dataframe\">\n",
              "  <thead>\n",
              "    <tr style=\"text-align: right;\">\n",
              "      <th></th>\n",
              "      <th>날짜</th>\n",
              "      <th>뉴스 제목</th>\n",
              "      <th>제공</th>\n",
              "      <th>키워드1</th>\n",
              "      <th>키워드2</th>\n",
              "      <th>키워드3</th>\n",
              "      <th>키워드4</th>\n",
              "      <th>키워드5</th>\n",
              "    </tr>\n",
              "  </thead>\n",
              "  <tbody>\n",
              "    <tr>\n",
              "      <th>0</th>\n",
              "      <td>2021-08-03</td>\n",
              "      <td>이제 네이버에 'OOO 코로나' 검색해도 연관검색어 안뜬다</td>\n",
              "      <td>한국경제</td>\n",
              "      <td>인물명이</td>\n",
              "      <td>포함된</td>\n",
              "      <td>앞으로는</td>\n",
              "      <td>'코로나</td>\n",
              "      <td>'OOO</td>\n",
              "    </tr>\n",
              "    <tr>\n",
              "      <th>1</th>\n",
              "      <td>2021-08-03</td>\n",
              "      <td>네이버에서 인물명 검색하면 연관검색어 안뜬다</td>\n",
              "      <td>머니투데이</td>\n",
              "      <td>인물명이</td>\n",
              "      <td>포함된</td>\n",
              "      <td>앞으로는</td>\n",
              "      <td>'코로나</td>\n",
              "      <td>'OOO</td>\n",
              "    </tr>\n",
              "    <tr>\n",
              "      <th>2</th>\n",
              "      <td>2021-08-03</td>\n",
              "      <td>\"맞수에게 배우자\" 닮아가는 네이버·쿠팡</td>\n",
              "      <td>서울경제</td>\n",
              "      <td>인물명이</td>\n",
              "      <td>포함된</td>\n",
              "      <td>앞으로는</td>\n",
              "      <td>'코로나</td>\n",
              "      <td>'OOO</td>\n",
              "    </tr>\n",
              "    <tr>\n",
              "      <th>3</th>\n",
              "      <td>2021-08-03</td>\n",
              "      <td>비즈넵 운영사 에멘탈, 네이버 등서 60억원 투자 유치</td>\n",
              "      <td>서울경제</td>\n",
              "      <td>인물명이</td>\n",
              "      <td>포함된</td>\n",
              "      <td>앞으로는</td>\n",
              "      <td>'코로나</td>\n",
              "      <td>'OOO</td>\n",
              "    </tr>\n",
              "    <tr>\n",
              "      <th>4</th>\n",
              "      <td>2021-08-03</td>\n",
              "      <td>[fn마켓워치]네이버·고릴라PE, 경영관리 자동화 서비스에 투자</td>\n",
              "      <td>파이낸셜뉴스</td>\n",
              "      <td>인물명이</td>\n",
              "      <td>포함된</td>\n",
              "      <td>앞으로는</td>\n",
              "      <td>'코로나</td>\n",
              "      <td>'OOO</td>\n",
              "    </tr>\n",
              "    <tr>\n",
              "      <th>...</th>\n",
              "      <td>...</td>\n",
              "      <td>...</td>\n",
              "      <td>...</td>\n",
              "      <td>...</td>\n",
              "      <td>...</td>\n",
              "      <td>...</td>\n",
              "      <td>...</td>\n",
              "      <td>...</td>\n",
              "    </tr>\n",
              "    <tr>\n",
              "      <th>821</th>\n",
              "      <td>2021-06-25</td>\n",
              "      <td>네이버·카카오 뉴스 편집권 폐지?…구글엔 '속수무책'</td>\n",
              "      <td>머니투데이</td>\n",
              "      <td>네이버</td>\n",
              "      <td>최</td>\n",
              "      <td>COO는</td>\n",
              "      <td>조사</td>\n",
              "      <td>대한</td>\n",
              "    </tr>\n",
              "    <tr>\n",
              "      <th>822</th>\n",
              "      <td>2021-06-24</td>\n",
              "      <td>카카오 네이버가 다했네…코스피 이달 시총 증가 40% 차지</td>\n",
              "      <td>매일경제</td>\n",
              "      <td>네이버</td>\n",
              "      <td>최</td>\n",
              "      <td>COO는</td>\n",
              "      <td>조사</td>\n",
              "      <td>대한</td>\n",
              "    </tr>\n",
              "    <tr>\n",
              "      <th>823</th>\n",
              "      <td>2021-06-24</td>\n",
              "      <td>네이버, 왓패드와 시너지 본격화…콘텐츠 1000억 투자</td>\n",
              "      <td>이데일리</td>\n",
              "      <td>네이버</td>\n",
              "      <td>최</td>\n",
              "      <td>COO는</td>\n",
              "      <td>조사</td>\n",
              "      <td>대한</td>\n",
              "    </tr>\n",
              "    <tr>\n",
              "      <th>824</th>\n",
              "      <td>2021-06-24</td>\n",
              "      <td>네이버, 웹툰-왓패드스튜디오 통합..글로벌IP 승부</td>\n",
              "      <td>파이낸셜뉴스</td>\n",
              "      <td>네이버</td>\n",
              "      <td>최</td>\n",
              "      <td>COO는</td>\n",
              "      <td>조사</td>\n",
              "      <td>대한</td>\n",
              "    </tr>\n",
              "    <tr>\n",
              "      <th>825</th>\n",
              "      <td>2021-06-24</td>\n",
              "      <td>네이버·왓패드 영상 스튜디오 통합·1,000억 투자... 글로벌 IP...</td>\n",
              "      <td>서울경제</td>\n",
              "      <td>네이버</td>\n",
              "      <td>최</td>\n",
              "      <td>COO는</td>\n",
              "      <td>조사</td>\n",
              "      <td>대한</td>\n",
              "    </tr>\n",
              "  </tbody>\n",
              "</table>\n",
              "<p>826 rows × 8 columns</p>\n",
              "</div>"
            ],
            "text/plain": [
              "             날짜                                      뉴스 제목      제공  키워드1 키워드2  \\\n",
              "0    2021-08-03           이제 네이버에 'OOO 코로나' 검색해도 연관검색어 안뜬다    한국경제  인물명이  포함된   \n",
              "1    2021-08-03                   네이버에서 인물명 검색하면 연관검색어 안뜬다   머니투데이  인물명이  포함된   \n",
              "2    2021-08-03                     \"맞수에게 배우자\" 닮아가는 네이버·쿠팡    서울경제  인물명이  포함된   \n",
              "3    2021-08-03             비즈넵 운영사 에멘탈, 네이버 등서 60억원 투자 유치    서울경제  인물명이  포함된   \n",
              "4    2021-08-03        [fn마켓워치]네이버·고릴라PE, 경영관리 자동화 서비스에 투자  파이낸셜뉴스  인물명이  포함된   \n",
              "..          ...                                        ...     ...   ...  ...   \n",
              "821  2021-06-25              네이버·카카오 뉴스 편집권 폐지?…구글엔 '속수무책'   머니투데이   네이버    최   \n",
              "822  2021-06-24           카카오 네이버가 다했네…코스피 이달 시총 증가 40% 차지    매일경제   네이버    최   \n",
              "823  2021-06-24             네이버, 왓패드와 시너지 본격화…콘텐츠 1000억 투자    이데일리   네이버    최   \n",
              "824  2021-06-24               네이버, 웹툰-왓패드스튜디오 통합..글로벌IP 승부  파이낸셜뉴스   네이버    최   \n",
              "825  2021-06-24  네이버·왓패드 영상 스튜디오 통합·1,000억 투자... 글로벌 IP...    서울경제   네이버    최   \n",
              "\n",
              "     키워드3  키워드4  키워드5  \n",
              "0    앞으로는  '코로나  'OOO  \n",
              "1    앞으로는  '코로나  'OOO  \n",
              "2    앞으로는  '코로나  'OOO  \n",
              "3    앞으로는  '코로나  'OOO  \n",
              "4    앞으로는  '코로나  'OOO  \n",
              "..    ...   ...   ...  \n",
              "821  COO는    조사    대한  \n",
              "822  COO는    조사    대한  \n",
              "823  COO는    조사    대한  \n",
              "824  COO는    조사    대한  \n",
              "825  COO는    조사    대한  \n",
              "\n",
              "[826 rows x 8 columns]"
            ]
          },
          "execution_count": 217,
          "metadata": {},
          "output_type": "execute_result"
        }
      ]
    },
    {
      "cell_type": "markdown",
      "metadata": {
        "id": "b1b98a35"
      },
      "source": [
        "## 삼성전자 뉴스 크롤링"
      ],
      "id": "b1b98a35"
    },
    {
      "cell_type": "code",
      "metadata": {
        "id": "79289b71",
        "outputId": "81b2304a-d99c-472f-bb0a-8e2017f019eb"
      },
      "source": [
        "crawl_news_data('005930', 50)"
      ],
      "id": "79289b71",
      "execution_count": null,
      "outputs": [
        {
          "data": {
            "text/html": [
              "<div>\n",
              "<style scoped>\n",
              "    .dataframe tbody tr th:only-of-type {\n",
              "        vertical-align: middle;\n",
              "    }\n",
              "\n",
              "    .dataframe tbody tr th {\n",
              "        vertical-align: top;\n",
              "    }\n",
              "\n",
              "    .dataframe thead th {\n",
              "        text-align: right;\n",
              "    }\n",
              "</style>\n",
              "<table border=\"1\" class=\"dataframe\">\n",
              "  <thead>\n",
              "    <tr style=\"text-align: right;\">\n",
              "      <th></th>\n",
              "      <th>날짜</th>\n",
              "      <th>뉴스 제목</th>\n",
              "      <th>제공</th>\n",
              "      <th>키워드1</th>\n",
              "      <th>키워드2</th>\n",
              "      <th>키워드3</th>\n",
              "      <th>키워드4</th>\n",
              "      <th>키워드5</th>\n",
              "    </tr>\n",
              "  </thead>\n",
              "  <tbody>\n",
              "    <tr>\n",
              "      <th>0</th>\n",
              "      <td>2021-08-03</td>\n",
              "      <td>“하라는 거야 말라는 거야?” 삼성 체험 서비스 갈수록 ‘깐깐’</td>\n",
              "      <td>헤럴드경제</td>\n",
              "      <td>수</td>\n",
              "      <td>서비스를</td>\n",
              "      <td>등</td>\n",
              "      <td>있는</td>\n",
              "      <td>체험</td>\n",
              "    </tr>\n",
              "    <tr>\n",
              "      <th>1</th>\n",
              "      <td>2021-08-03</td>\n",
              "      <td>‘갤럭시 얼리버드 투고 서비스’ 운영…삼성, 폴더블폰 마케팅 ‘시동’</td>\n",
              "      <td>이데일리</td>\n",
              "      <td>수</td>\n",
              "      <td>서비스를</td>\n",
              "      <td>등</td>\n",
              "      <td>있는</td>\n",
              "      <td>체험</td>\n",
              "    </tr>\n",
              "    <tr>\n",
              "      <th>2</th>\n",
              "      <td>2021-08-03</td>\n",
              "      <td>'김연경' 갤워치4 갤폴드3, '3일 공짜폰' 됐다…삼성, 제품체험 ...</td>\n",
              "      <td>매일경제</td>\n",
              "      <td>수</td>\n",
              "      <td>서비스를</td>\n",
              "      <td>등</td>\n",
              "      <td>있는</td>\n",
              "      <td>체험</td>\n",
              "    </tr>\n",
              "    <tr>\n",
              "      <th>3</th>\n",
              "      <td>2021-08-03</td>\n",
              "      <td>인도에 공들이는 삼성…KLE대학에 'AI 연구소' 세운 까닭</td>\n",
              "      <td>머니투데이</td>\n",
              "      <td>수</td>\n",
              "      <td>서비스를</td>\n",
              "      <td>등</td>\n",
              "      <td>있는</td>\n",
              "      <td>체험</td>\n",
              "    </tr>\n",
              "    <tr>\n",
              "      <th>4</th>\n",
              "      <td>2021-08-03</td>\n",
              "      <td>삼성전자, 印대학과 첨단기술 싹 틔운다…AI·머신러닝 연구소 세워</td>\n",
              "      <td>아시아경제</td>\n",
              "      <td>수</td>\n",
              "      <td>서비스를</td>\n",
              "      <td>등</td>\n",
              "      <td>있는</td>\n",
              "      <td>체험</td>\n",
              "    </tr>\n",
              "    <tr>\n",
              "      <th>...</th>\n",
              "      <td>...</td>\n",
              "      <td>...</td>\n",
              "      <td>...</td>\n",
              "      <td>...</td>\n",
              "      <td>...</td>\n",
              "      <td>...</td>\n",
              "      <td>...</td>\n",
              "      <td>...</td>\n",
              "    </tr>\n",
              "    <tr>\n",
              "      <th>881</th>\n",
              "      <td>2021-07-22</td>\n",
              "      <td>존림 삼바 사장 \"모더나 위탁생산 亞서 삼성만 가능\"</td>\n",
              "      <td>이데일리</td>\n",
              "      <td>'비스포크</td>\n",
              "      <td>있다.</td>\n",
              "      <td>에어컨</td>\n",
              "      <td>삼성</td>\n",
              "      <td>위해</td>\n",
              "    </tr>\n",
              "    <tr>\n",
              "      <th>882</th>\n",
              "      <td>2021-07-22</td>\n",
              "      <td>美 오스틴 당국 “삼성과 협상시작, 8월 중 합의”…경제계 “이재용 부...</td>\n",
              "      <td>헤럴드경제</td>\n",
              "      <td>'비스포크</td>\n",
              "      <td>있다.</td>\n",
              "      <td>에어컨</td>\n",
              "      <td>삼성</td>\n",
              "      <td>위해</td>\n",
              "    </tr>\n",
              "    <tr>\n",
              "      <th>883</th>\n",
              "      <td>2021-07-22</td>\n",
              "      <td>삼성전자 부진해도…삼성그룹株 펀드는 ‘꿋꿋’</td>\n",
              "      <td>아시아경제</td>\n",
              "      <td>'비스포크</td>\n",
              "      <td>있다.</td>\n",
              "      <td>에어컨</td>\n",
              "      <td>삼성</td>\n",
              "      <td>위해</td>\n",
              "    </tr>\n",
              "    <tr>\n",
              "      <th>884</th>\n",
              "      <td>2021-07-22</td>\n",
              "      <td>[특징주] 삼성전자 ‘8만 전자’ 회복할까…SK하이닉스도 강세</td>\n",
              "      <td>헤럴드경제</td>\n",
              "      <td>'비스포크</td>\n",
              "      <td>있다.</td>\n",
              "      <td>에어컨</td>\n",
              "      <td>삼성</td>\n",
              "      <td>위해</td>\n",
              "    </tr>\n",
              "    <tr>\n",
              "      <th>885</th>\n",
              "      <td>2021-07-22</td>\n",
              "      <td>삼성전자·SK하이닉스, 美 반도체주 훈풍에 주가 반등</td>\n",
              "      <td>조선비즈</td>\n",
              "      <td>'비스포크</td>\n",
              "      <td>있다.</td>\n",
              "      <td>에어컨</td>\n",
              "      <td>삼성</td>\n",
              "      <td>위해</td>\n",
              "    </tr>\n",
              "  </tbody>\n",
              "</table>\n",
              "<p>886 rows × 8 columns</p>\n",
              "</div>"
            ],
            "text/plain": [
              "             날짜                                       뉴스 제목     제공   키워드1  \\\n",
              "0    2021-08-03         “하라는 거야 말라는 거야?” 삼성 체험 서비스 갈수록 ‘깐깐’  헤럴드경제      수   \n",
              "1    2021-08-03      ‘갤럭시 얼리버드 투고 서비스’ 운영…삼성, 폴더블폰 마케팅 ‘시동’   이데일리      수   \n",
              "2    2021-08-03   '김연경' 갤워치4 갤폴드3, '3일 공짜폰' 됐다…삼성, 제품체험 ...   매일경제      수   \n",
              "3    2021-08-03           인도에 공들이는 삼성…KLE대학에 'AI 연구소' 세운 까닭  머니투데이      수   \n",
              "4    2021-08-03        삼성전자, 印대학과 첨단기술 싹 틔운다…AI·머신러닝 연구소 세워  아시아경제      수   \n",
              "..          ...                                         ...    ...    ...   \n",
              "881  2021-07-22               존림 삼바 사장 \"모더나 위탁생산 亞서 삼성만 가능\"   이데일리  '비스포크   \n",
              "882  2021-07-22  美 오스틴 당국 “삼성과 협상시작, 8월 중 합의”…경제계 “이재용 부...  헤럴드경제  '비스포크   \n",
              "883  2021-07-22                    삼성전자 부진해도…삼성그룹株 펀드는 ‘꿋꿋’  아시아경제  '비스포크   \n",
              "884  2021-07-22          [특징주] 삼성전자 ‘8만 전자’ 회복할까…SK하이닉스도 강세  헤럴드경제  '비스포크   \n",
              "885  2021-07-22               삼성전자·SK하이닉스, 美 반도체주 훈풍에 주가 반등   조선비즈  '비스포크   \n",
              "\n",
              "     키워드2 키워드3 키워드4 키워드5  \n",
              "0    서비스를    등   있는   체험  \n",
              "1    서비스를    등   있는   체험  \n",
              "2    서비스를    등   있는   체험  \n",
              "3    서비스를    등   있는   체험  \n",
              "4    서비스를    등   있는   체험  \n",
              "..    ...  ...  ...  ...  \n",
              "881   있다.  에어컨   삼성   위해  \n",
              "882   있다.  에어컨   삼성   위해  \n",
              "883   있다.  에어컨   삼성   위해  \n",
              "884   있다.  에어컨   삼성   위해  \n",
              "885   있다.  에어컨   삼성   위해  \n",
              "\n",
              "[886 rows x 8 columns]"
            ]
          },
          "execution_count": 218,
          "metadata": {},
          "output_type": "execute_result"
        }
      ]
    },
    {
      "cell_type": "markdown",
      "metadata": {
        "id": "00880d45"
      },
      "source": [
        "## SK하이닉스 뉴스 크롤링"
      ],
      "id": "00880d45"
    },
    {
      "cell_type": "code",
      "metadata": {
        "scrolled": true,
        "id": "dd1377da",
        "outputId": "aecc88a4-f7d8-4059-9c9c-36d71b634321"
      },
      "source": [
        "crawl_news_data('000660', 50)"
      ],
      "id": "dd1377da",
      "execution_count": null,
      "outputs": [
        {
          "data": {
            "text/html": [
              "<div>\n",
              "<style scoped>\n",
              "    .dataframe tbody tr th:only-of-type {\n",
              "        vertical-align: middle;\n",
              "    }\n",
              "\n",
              "    .dataframe tbody tr th {\n",
              "        vertical-align: top;\n",
              "    }\n",
              "\n",
              "    .dataframe thead th {\n",
              "        text-align: right;\n",
              "    }\n",
              "</style>\n",
              "<table border=\"1\" class=\"dataframe\">\n",
              "  <thead>\n",
              "    <tr style=\"text-align: right;\">\n",
              "      <th></th>\n",
              "      <th>날짜</th>\n",
              "      <th>뉴스 제목</th>\n",
              "      <th>제공</th>\n",
              "      <th>키워드1</th>\n",
              "      <th>키워드2</th>\n",
              "      <th>키워드3</th>\n",
              "      <th>키워드4</th>\n",
              "      <th>키워드5</th>\n",
              "    </tr>\n",
              "  </thead>\n",
              "  <tbody>\n",
              "    <tr>\n",
              "      <th>0</th>\n",
              "      <td>2021-08-03</td>\n",
              "      <td>삼성전자 두달만에 2%대 상승… SK하이닉스는 3%↑</td>\n",
              "      <td>파이낸셜뉴스</td>\n",
              "      <td>삼성전자</td>\n",
              "      <td>지난</td>\n",
              "      <td>것은</td>\n",
              "      <td>이후</td>\n",
              "      <td>주가는</td>\n",
              "    </tr>\n",
              "    <tr>\n",
              "      <th>1</th>\n",
              "      <td>2021-08-03</td>\n",
              "      <td>삼성전자·포스코·SK하이닉스·롯데, 청년 고용 위해 정부와 맞손</td>\n",
              "      <td>한국경제</td>\n",
              "      <td>삼성전자</td>\n",
              "      <td>지난</td>\n",
              "      <td>것은</td>\n",
              "      <td>이후</td>\n",
              "      <td>주가는</td>\n",
              "    </tr>\n",
              "    <tr>\n",
              "      <th>2</th>\n",
              "      <td>2021-08-03</td>\n",
              "      <td>SK하이닉스, ESG 캠페인으로 '디지털애드어워즈' 대상</td>\n",
              "      <td>아시아경제</td>\n",
              "      <td>삼성전자</td>\n",
              "      <td>지난</td>\n",
              "      <td>것은</td>\n",
              "      <td>이후</td>\n",
              "      <td>주가는</td>\n",
              "    </tr>\n",
              "    <tr>\n",
              "      <th>3</th>\n",
              "      <td>2021-08-03</td>\n",
              "      <td>[특징주]삼성전자, 12거래일 만에 장중 ‘8만전자’ 회복…SK하이닉스...</td>\n",
              "      <td>헤럴드경제</td>\n",
              "      <td>삼성전자</td>\n",
              "      <td>지난</td>\n",
              "      <td>것은</td>\n",
              "      <td>이후</td>\n",
              "      <td>주가는</td>\n",
              "    </tr>\n",
              "    <tr>\n",
              "      <th>4</th>\n",
              "      <td>2021-08-03</td>\n",
              "      <td>[특징주] 삼전, 13거래일 만에 8만원선 회복...SK하이닉스도 3%...</td>\n",
              "      <td>서울경제</td>\n",
              "      <td>삼성전자</td>\n",
              "      <td>지난</td>\n",
              "      <td>것은</td>\n",
              "      <td>이후</td>\n",
              "      <td>주가는</td>\n",
              "    </tr>\n",
              "    <tr>\n",
              "      <th>...</th>\n",
              "      <td>...</td>\n",
              "      <td>...</td>\n",
              "      <td>...</td>\n",
              "      <td>...</td>\n",
              "      <td>...</td>\n",
              "      <td>...</td>\n",
              "      <td>...</td>\n",
              "      <td>...</td>\n",
              "    </tr>\n",
              "    <tr>\n",
              "      <th>837</th>\n",
              "      <td>2021-04-15</td>\n",
              "      <td>'환경·노동 규제완화' 반도체 특별법 나온다...첫 수혜는 SK하이닉스</td>\n",
              "      <td>조선비즈</td>\n",
              "      <td>심사를</td>\n",
              "      <td>반도체</td>\n",
              "      <td>낸드플래시</td>\n",
              "      <td>최근</td>\n",
              "      <td>기자</td>\n",
              "    </tr>\n",
              "    <tr>\n",
              "      <th>838</th>\n",
              "      <td>2021-04-15</td>\n",
              "      <td>최태원의 SK, '하이닉스 직접 지배' 왜 보류했나</td>\n",
              "      <td>머니투데이</td>\n",
              "      <td>심사를</td>\n",
              "      <td>반도체</td>\n",
              "      <td>낸드플래시</td>\n",
              "      <td>최근</td>\n",
              "      <td>기자</td>\n",
              "    </tr>\n",
              "    <tr>\n",
              "      <th>839</th>\n",
              "      <td>2021-04-15</td>\n",
              "      <td>SKT 중간 지주사 전환에도 하이닉스 투자 규제 여젼…\"국내투자 역차...</td>\n",
              "      <td>이데일리</td>\n",
              "      <td>심사를</td>\n",
              "      <td>반도체</td>\n",
              "      <td>낸드플래시</td>\n",
              "      <td>최근</td>\n",
              "      <td>기자</td>\n",
              "    </tr>\n",
              "    <tr>\n",
              "      <th>840</th>\n",
              "      <td>2021-04-15</td>\n",
              "      <td>풀HD급 영화 1초에 저장...SK하이닉스, 기업용 SSD 신제품 양산</td>\n",
              "      <td>헤럴드경제</td>\n",
              "      <td>심사를</td>\n",
              "      <td>반도체</td>\n",
              "      <td>낸드플래시</td>\n",
              "      <td>최근</td>\n",
              "      <td>기자</td>\n",
              "    </tr>\n",
              "    <tr>\n",
              "      <th>841</th>\n",
              "      <td>2021-04-15</td>\n",
              "      <td>'풀HD급 영화 한 편 1초에 저장'…SK하이닉스, 기업용 SSD 신...</td>\n",
              "      <td>헤럴드경제</td>\n",
              "      <td>심사를</td>\n",
              "      <td>반도체</td>\n",
              "      <td>낸드플래시</td>\n",
              "      <td>최근</td>\n",
              "      <td>기자</td>\n",
              "    </tr>\n",
              "  </tbody>\n",
              "</table>\n",
              "<p>842 rows × 8 columns</p>\n",
              "</div>"
            ],
            "text/plain": [
              "             날짜                                       뉴스 제목      제공  키워드1  \\\n",
              "0    2021-08-03               삼성전자 두달만에 2%대 상승… SK하이닉스는 3%↑  파이낸셜뉴스  삼성전자   \n",
              "1    2021-08-03         삼성전자·포스코·SK하이닉스·롯데, 청년 고용 위해 정부와 맞손    한국경제  삼성전자   \n",
              "2    2021-08-03             SK하이닉스, ESG 캠페인으로 '디지털애드어워즈' 대상   아시아경제  삼성전자   \n",
              "3    2021-08-03  [특징주]삼성전자, 12거래일 만에 장중 ‘8만전자’ 회복…SK하이닉스...   헤럴드경제  삼성전자   \n",
              "4    2021-08-03  [특징주] 삼전, 13거래일 만에 8만원선 회복...SK하이닉스도 3%...    서울경제  삼성전자   \n",
              "..          ...                                         ...     ...   ...   \n",
              "837  2021-04-15     '환경·노동 규제완화' 반도체 특별법 나온다...첫 수혜는 SK하이닉스    조선비즈   심사를   \n",
              "838  2021-04-15                최태원의 SK, '하이닉스 직접 지배' 왜 보류했나   머니투데이   심사를   \n",
              "839  2021-04-15   SKT 중간 지주사 전환에도 하이닉스 투자 규제 여젼…\"국내투자 역차...    이데일리   심사를   \n",
              "840  2021-04-15     풀HD급 영화 1초에 저장...SK하이닉스, 기업용 SSD 신제품 양산   헤럴드경제   심사를   \n",
              "841  2021-04-15   '풀HD급 영화 한 편 1초에 저장'…SK하이닉스, 기업용 SSD 신...   헤럴드경제   심사를   \n",
              "\n",
              "    키워드2   키워드3 키워드4 키워드5  \n",
              "0     지난     것은   이후  주가는  \n",
              "1     지난     것은   이후  주가는  \n",
              "2     지난     것은   이후  주가는  \n",
              "3     지난     것은   이후  주가는  \n",
              "4     지난     것은   이후  주가는  \n",
              "..   ...    ...  ...  ...  \n",
              "837  반도체  낸드플래시   최근   기자  \n",
              "838  반도체  낸드플래시   최근   기자  \n",
              "839  반도체  낸드플래시   최근   기자  \n",
              "840  반도체  낸드플래시   최근   기자  \n",
              "841  반도체  낸드플래시   최근   기자  \n",
              "\n",
              "[842 rows x 8 columns]"
            ]
          },
          "execution_count": 219,
          "metadata": {},
          "output_type": "execute_result"
        }
      ]
    },
    {
      "cell_type": "code",
      "metadata": {
        "id": "97f49f41"
      },
      "source": [
        ""
      ],
      "id": "97f49f41",
      "execution_count": null,
      "outputs": []
    }
  ]
}